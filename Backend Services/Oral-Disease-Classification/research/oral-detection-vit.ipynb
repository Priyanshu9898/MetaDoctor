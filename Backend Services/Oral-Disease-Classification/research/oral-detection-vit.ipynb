{
 "cells": [
  {
   "cell_type": "code",
   "execution_count": 1,
   "id": "fd46e456",
   "metadata": {
    "_cell_guid": "b1076dfc-b9ad-4769-8c92-a6c4dae69d19",
    "_uuid": "8f2839f25d086af736a60e9eeb907d3b93b6e0e5",
    "execution": {
     "iopub.execute_input": "2024-01-05T05:26:46.860330Z",
     "iopub.status.busy": "2024-01-05T05:26:46.859857Z",
     "iopub.status.idle": "2024-01-05T05:26:56.639162Z",
     "shell.execute_reply": "2024-01-05T05:26:56.638383Z"
    },
    "papermill": {
     "duration": 9.797863,
     "end_time": "2024-01-05T05:26:56.641544",
     "exception": false,
     "start_time": "2024-01-05T05:26:46.843681",
     "status": "completed"
    },
    "tags": []
   },
   "outputs": [],
   "source": [
    "# This Python 3 environment comes with many helpful analytics libraries installed\n",
    "# It is defined by the kaggle/python Docker image: https://github.com/kaggle/docker-python\n",
    "# For example, here's several helpful packages to load\n",
    "\n",
    "import numpy as np # linear algebra\n",
    "import pandas as pd # data processing, CSV file I/O (e.g. pd.read_csv)\n",
    "\n",
    "# Input data files are available in the read-only \"../input/\" directory\n",
    "# For example, running this (by clicking run or pressing Shift+Enter) will list all files under the input directory\n",
    "\n",
    "import os\n",
    "for dirname, _, filenames in os.walk('/kaggle/input'):\n",
    "    for filename in filenames:\n",
    "#         print(os.path.join(dirname, filename))\n",
    "        pass\n",
    "\n",
    "# You can write up to 20GB to the current directory (/kaggle/working/) that gets preserved as output when you create a version using \"Save & Run All\" \n",
    "# You can also write temporary files to /kaggle/temp/, but they won't be saved outside of the current session"
   ]
  },
  {
   "cell_type": "code",
   "execution_count": 2,
   "id": "33a230cc",
   "metadata": {
    "execution": {
     "iopub.execute_input": "2024-01-05T05:26:56.661352Z",
     "iopub.status.busy": "2024-01-05T05:26:56.660889Z",
     "iopub.status.idle": "2024-01-05T05:26:56.665719Z",
     "shell.execute_reply": "2024-01-05T05:26:56.665008Z"
    },
    "papermill": {
     "duration": 0.016752,
     "end_time": "2024-01-05T05:26:56.667586",
     "exception": false,
     "start_time": "2024-01-05T05:26:56.650834",
     "status": "completed"
    },
    "tags": []
   },
   "outputs": [],
   "source": [
    "# input folder\n",
    "from pathlib import Path\n",
    "Path('/kaggle/working/oral-diseases/').mkdir(parents=True, exist_ok=True)"
   ]
  },
  {
   "cell_type": "code",
   "execution_count": 3,
   "id": "920cd5e2",
   "metadata": {
    "execution": {
     "iopub.execute_input": "2024-01-05T05:26:56.686910Z",
     "iopub.status.busy": "2024-01-05T05:26:56.686625Z",
     "iopub.status.idle": "2024-01-05T05:27:12.224384Z",
     "shell.execute_reply": "2024-01-05T05:27:12.223392Z"
    },
    "papermill": {
     "duration": 15.550054,
     "end_time": "2024-01-05T05:27:12.226701",
     "exception": false,
     "start_time": "2024-01-05T05:26:56.676647",
     "status": "completed"
    },
    "tags": []
   },
   "outputs": [
    {
     "data": {
      "text/plain": [
       "PosixPath('/kaggle/working/oral-diseases/caries')"
      ]
     },
     "execution_count": 3,
     "metadata": {},
     "output_type": "execute_result"
    }
   ],
   "source": [
    "import shutil\n",
    "import os\n",
    "\n",
    "# Caries.\n",
    "# The source path\n",
    "caries_file_path = Path('/kaggle/input/oral-diseases/Data caries/Data caries/caries augmented data set/preview')\n",
    "\n",
    "# The destination path\n",
    "caries_new_directory = Path('/kaggle/working/oral-diseases/caries')\n",
    "\n",
    "# Copying data from input folder to working folder\n",
    "shutil.copytree(caries_file_path, caries_new_directory)"
   ]
  },
  {
   "cell_type": "code",
   "execution_count": 4,
   "id": "4c9bd29f",
   "metadata": {
    "execution": {
     "iopub.execute_input": "2024-01-05T05:27:12.246716Z",
     "iopub.status.busy": "2024-01-05T05:27:12.246412Z",
     "iopub.status.idle": "2024-01-05T05:28:12.835075Z",
     "shell.execute_reply": "2024-01-05T05:28:12.834105Z"
    },
    "papermill": {
     "duration": 60.610434,
     "end_time": "2024-01-05T05:28:12.846749",
     "exception": false,
     "start_time": "2024-01-05T05:27:12.236315",
     "status": "completed"
    },
    "tags": []
   },
   "outputs": [
    {
     "data": {
      "text/plain": [
       "PosixPath('/kaggle/working/oral-diseases/hypodontia')"
      ]
     },
     "execution_count": 4,
     "metadata": {},
     "output_type": "execute_result"
    }
   ],
   "source": [
    "# Calculus\n",
    "# The source path\n",
    "calculus_file_path = Path('/kaggle/input/oral-diseases/Calculus/Calculus')\n",
    "# The destination path\n",
    "calculus_new_directory = Path('/kaggle/working/oral-diseases/calculus')\n",
    "# Copying data from input folder to working folder\n",
    "shutil.copytree(calculus_file_path, calculus_new_directory)\n",
    "\n",
    "#Gingivitis\n",
    "# The source path\n",
    "gingivitis_file_path = Path('/kaggle/input/oral-diseases/Gingivitis/Gingivitis')\n",
    "# The destination path\n",
    "gingivitis_new_directory = Path('/kaggle/working/oral-diseases/gingivitis')\n",
    "# Copying data from input folder to working folder\n",
    "shutil.copytree(gingivitis_file_path, gingivitis_new_directory)\n",
    "\n",
    "#Ulcers\n",
    "# The source path\n",
    "ulcer_file_path = Path('/kaggle/input/oral-diseases/Mouth Ulcer/Mouth Ulcer/Mouth_Ulcer_augmented_DataSet/preview')\n",
    "# The destination path\n",
    "ulcer_new_directory = Path('/kaggle/working/oral-diseases/ulcers')\n",
    "# Copying data from input folder to working folder\n",
    "shutil.copytree(ulcer_file_path, ulcer_new_directory)\n",
    "\n",
    "#Tooth Discoloration\n",
    "# The source path\n",
    "toothDiscoloration_file_path = Path('/kaggle/input/oral-diseases/Tooth Discoloration/Tooth Discoloration /Tooth_discoloration_augmented_dataser/preview')\n",
    "# The destination path\n",
    "toothDiscoloration_new_directory = Path('/kaggle/working/oral-diseases/toothDiscoloration')\n",
    "# Copying data from input folder to working folder\n",
    "shutil.copytree(toothDiscoloration_file_path, toothDiscoloration_new_directory)\n",
    "\n",
    "#hypodontia\n",
    "# The source path\n",
    "hypodontia_file_path = Path('/kaggle/input/oral-diseases/hypodontia/hypodontia')\n",
    "# The destination path\n",
    "hypodontia_new_directory = Path('/kaggle/working/oral-diseases/hypodontia')\n",
    "# Copying data from input folder to working folder\n",
    "shutil.copytree(hypodontia_file_path, hypodontia_new_directory)"
   ]
  },
  {
   "cell_type": "code",
   "execution_count": 5,
   "id": "851f77a0",
   "metadata": {
    "execution": {
     "iopub.execute_input": "2024-01-05T05:28:12.868330Z",
     "iopub.status.busy": "2024-01-05T05:28:12.867506Z",
     "iopub.status.idle": "2024-01-05T05:28:12.876064Z",
     "shell.execute_reply": "2024-01-05T05:28:12.875213Z"
    },
    "papermill": {
     "duration": 0.021368,
     "end_time": "2024-01-05T05:28:12.878027",
     "exception": false,
     "start_time": "2024-01-05T05:28:12.856659",
     "status": "completed"
    },
    "tags": []
   },
   "outputs": [
    {
     "data": {
      "text/plain": [
       "['caries',\n",
       " 'hypodontia',\n",
       " 'gingivitis',\n",
       " 'toothDiscoloration',\n",
       " 'calculus',\n",
       " 'ulcers']"
      ]
     },
     "execution_count": 5,
     "metadata": {},
     "output_type": "execute_result"
    }
   ],
   "source": [
    "# The different classes we have from the folders\n",
    "import os\n",
    "build_dir = \"/kaggle/working/oral-diseases\"\n",
    "caries_dir = os.path.join(build_dir,'caries')\n",
    "gingivitis_dir = os.path.join(build_dir,'gingivitis')\n",
    "toothDiscoloration_dir = os.path.join(build_dir,'toothDiscoloration')\n",
    "ulcers_dir = os.path.join(build_dir,'ulcers')\n",
    "hypodontia_dir = os.path.join(build_dir,'hypodontia')\n",
    "calculus_dir = os.path.join(build_dir,'calculus')\n",
    "os.listdir(build_dir)"
   ]
  },
  {
   "cell_type": "code",
   "execution_count": 6,
   "id": "93749e8e",
   "metadata": {
    "execution": {
     "iopub.execute_input": "2024-01-05T05:28:12.899413Z",
     "iopub.status.busy": "2024-01-05T05:28:12.898705Z",
     "iopub.status.idle": "2024-01-05T05:28:12.916964Z",
     "shell.execute_reply": "2024-01-05T05:28:12.916243Z"
    },
    "papermill": {
     "duration": 0.031341,
     "end_time": "2024-01-05T05:28:12.919150",
     "exception": false,
     "start_time": "2024-01-05T05:28:12.887809",
     "status": "completed"
    },
    "tags": []
   },
   "outputs": [],
   "source": [
    "# Showing the total number of images from each class/folder\n",
    "import pandas as pd\n",
    "\n",
    "data = pd.DataFrame(data=[len(os.listdir(caries_dir)), len(os.listdir(gingivitis_dir)),\n",
    "                   len(os.listdir(toothDiscoloration_dir)), len(os.listdir(ulcers_dir)),\n",
    "                   len(os.listdir(hypodontia_dir)),\n",
    "                   len(os.listdir(calculus_dir))], index=['Caries', 'Gingivitis',\n",
    "                                                                    'toothDiscoloration', 'ulcers',\n",
    "                                                                    'hypodontia', 'calculus'],\n",
    "              columns=['Total Images'])"
   ]
  },
  {
   "cell_type": "code",
   "execution_count": 7,
   "id": "7d7424f2",
   "metadata": {
    "execution": {
     "iopub.execute_input": "2024-01-05T05:28:12.940723Z",
     "iopub.status.busy": "2024-01-05T05:28:12.940411Z",
     "iopub.status.idle": "2024-01-05T05:28:12.951696Z",
     "shell.execute_reply": "2024-01-05T05:28:12.950971Z"
    },
    "papermill": {
     "duration": 0.024489,
     "end_time": "2024-01-05T05:28:12.953760",
     "exception": false,
     "start_time": "2024-01-05T05:28:12.929271",
     "status": "completed"
    },
    "tags": []
   },
   "outputs": [],
   "source": [
    "data.to_csv('data_distribution.csv')"
   ]
  },
  {
   "cell_type": "code",
   "execution_count": 8,
   "id": "f0b1653e",
   "metadata": {
    "execution": {
     "iopub.execute_input": "2024-01-05T05:28:12.975561Z",
     "iopub.status.busy": "2024-01-05T05:28:12.974709Z",
     "iopub.status.idle": "2024-01-05T05:28:12.991399Z",
     "shell.execute_reply": "2024-01-05T05:28:12.990570Z"
    },
    "papermill": {
     "duration": 0.02935,
     "end_time": "2024-01-05T05:28:12.993262",
     "exception": false,
     "start_time": "2024-01-05T05:28:12.963912",
     "status": "completed"
    },
    "tags": []
   },
   "outputs": [
    {
     "data": {
      "text/html": [
       "<div>\n",
       "<style scoped>\n",
       "    .dataframe tbody tr th:only-of-type {\n",
       "        vertical-align: middle;\n",
       "    }\n",
       "\n",
       "    .dataframe tbody tr th {\n",
       "        vertical-align: top;\n",
       "    }\n",
       "\n",
       "    .dataframe thead th {\n",
       "        text-align: right;\n",
       "    }\n",
       "</style>\n",
       "<table border=\"1\" class=\"dataframe\">\n",
       "  <thead>\n",
       "    <tr style=\"text-align: right;\">\n",
       "      <th></th>\n",
       "      <th>Total Images</th>\n",
       "    </tr>\n",
       "  </thead>\n",
       "  <tbody>\n",
       "    <tr>\n",
       "      <th>Caries</th>\n",
       "      <td>2382</td>\n",
       "    </tr>\n",
       "    <tr>\n",
       "      <th>Gingivitis</th>\n",
       "      <td>2349</td>\n",
       "    </tr>\n",
       "    <tr>\n",
       "      <th>toothDiscoloration</th>\n",
       "      <td>1834</td>\n",
       "    </tr>\n",
       "    <tr>\n",
       "      <th>ulcers</th>\n",
       "      <td>2541</td>\n",
       "    </tr>\n",
       "    <tr>\n",
       "      <th>hypodontia</th>\n",
       "      <td>1251</td>\n",
       "    </tr>\n",
       "    <tr>\n",
       "      <th>calculus</th>\n",
       "      <td>1296</td>\n",
       "    </tr>\n",
       "  </tbody>\n",
       "</table>\n",
       "</div>"
      ],
      "text/plain": [
       "                    Total Images\n",
       "Caries                      2382\n",
       "Gingivitis                  2349\n",
       "toothDiscoloration          1834\n",
       "ulcers                      2541\n",
       "hypodontia                  1251\n",
       "calculus                    1296"
      ]
     },
     "execution_count": 8,
     "metadata": {},
     "output_type": "execute_result"
    }
   ],
   "source": [
    "data"
   ]
  },
  {
   "cell_type": "code",
   "execution_count": 9,
   "id": "5555fe54",
   "metadata": {
    "execution": {
     "iopub.execute_input": "2024-01-05T05:28:13.015703Z",
     "iopub.status.busy": "2024-01-05T05:28:13.015383Z",
     "iopub.status.idle": "2024-01-05T05:28:13.019580Z",
     "shell.execute_reply": "2024-01-05T05:28:13.018750Z"
    },
    "papermill": {
     "duration": 0.017282,
     "end_time": "2024-01-05T05:28:13.021499",
     "exception": false,
     "start_time": "2024-01-05T05:28:13.004217",
     "status": "completed"
    },
    "tags": []
   },
   "outputs": [],
   "source": [
    "# Sample of caries\n",
    "from PIL import Image\n",
    "import matplotlib.pyplot as plt"
   ]
  },
  {
   "cell_type": "code",
   "execution_count": 10,
   "id": "42355dd6",
   "metadata": {
    "execution": {
     "iopub.execute_input": "2024-01-05T05:28:13.043351Z",
     "iopub.status.busy": "2024-01-05T05:28:13.042539Z",
     "iopub.status.idle": "2024-01-05T05:28:13.409861Z",
     "shell.execute_reply": "2024-01-05T05:28:13.408918Z"
    },
    "papermill": {
     "duration": 0.38099,
     "end_time": "2024-01-05T05:28:13.412373",
     "exception": false,
     "start_time": "2024-01-05T05:28:13.031383",
     "status": "completed"
    },
    "tags": []
   },
   "outputs": [
    {
     "data": {
      "text/plain": [
       "<matplotlib.image.AxesImage at 0x7fa52fb85a80>"
      ]
     },
     "execution_count": 10,
     "metadata": {},
     "output_type": "execute_result"
    },
    {
     "data": {
      "image/png": "[encoded data removed]",
      "text/plain": [
       "<Figure size 640x480 with 1 Axes>"
      ]
     },
     "metadata": {},
     "output_type": "display_data"
    }
   ],
   "source": [
    "# Sample of hypodontia\n",
    "hypodontiaimg=Image.open(\"/kaggle/working/oral-diseases/hypodontia/(25).JPG\")\n",
    "plt.imshow(hypodontiaimg)"
   ]
  },
  {
   "cell_type": "code",
   "execution_count": 11,
   "id": "fb041ec7",
   "metadata": {
    "execution": {
     "iopub.execute_input": "2024-01-05T05:28:13.437938Z",
     "iopub.status.busy": "2024-01-05T05:28:13.437133Z",
     "iopub.status.idle": "2024-01-05T05:28:28.387490Z",
     "shell.execute_reply": "2024-01-05T05:28:28.386504Z"
    },
    "papermill": {
     "duration": 14.965736,
     "end_time": "2024-01-05T05:28:28.390164",
     "exception": false,
     "start_time": "2024-01-05T05:28:13.424428",
     "status": "completed"
    },
    "tags": []
   },
   "outputs": [
    {
     "name": "stdout",
     "output_type": "stream",
     "text": [
      "Requirement already satisfied: torch in /opt/conda/lib/python3.10/site-packages (2.0.0)\r\n",
      "Requirement already satisfied: torchvision in /opt/conda/lib/python3.10/site-packages (0.15.1)\r\n",
      "Requirement already satisfied: transformers in /opt/conda/lib/python3.10/site-packages (4.36.0)\r\n",
      "Requirement already satisfied: filelock in /opt/conda/lib/python3.10/site-packages (from torch) (3.12.2)\r\n",
      "Requirement already satisfied: typing-extensions in /opt/conda/lib/python3.10/site-packages (from torch) (4.5.0)\r\n",
      "Requirement already satisfied: sympy in /opt/conda/lib/python3.10/site-packages (from torch) (1.12)\r\n",
      "Requirement already satisfied: networkx in /opt/conda/lib/python3.10/site-packages (from torch) (3.1)\r\n",
      "Requirement already satisfied: jinja2 in /opt/conda/lib/python3.10/site-packages (from torch) (3.1.2)\r\n",
      "Requirement already satisfied: numpy in /opt/conda/lib/python3.10/site-packages (from torchvision) (1.24.3)\r\n",
      "Requirement already satisfied: requests in /opt/conda/lib/python3.10/site-packages (from torchvision) (2.31.0)\r\n",
      "Requirement already satisfied: pillow!=8.3.*,>=5.3.0 in /opt/conda/lib/python3.10/site-packages (from torchvision) (10.1.0)\r\n",
      "Requirement already satisfied: huggingface-hub<1.0,>=0.19.3 in /opt/conda/lib/python3.10/site-packages (from transformers) (0.19.4)\r\n",
      "Requirement already satisfied: packaging>=20.0 in /opt/conda/lib/python3.10/site-packages (from transformers) (21.3)\r\n",
      "Requirement already satisfied: pyyaml>=5.1 in /opt/conda/lib/python3.10/site-packages (from transformers) (6.0.1)\r\n",
      "Requirement already satisfied: regex!=2019.12.17 in /opt/conda/lib/python3.10/site-packages (from transformers) (2023.8.8)\r\n",
      "Requirement already satisfied: tokenizers<0.19,>=0.14 in /opt/conda/lib/python3.10/site-packages (from transformers) (0.15.0)\r\n",
      "Requirement already satisfied: safetensors>=0.3.1 in /opt/conda/lib/python3.10/site-packages (from transformers) (0.4.1)\r\n",
      "Requirement already satisfied: tqdm>=4.27 in /opt/conda/lib/python3.10/site-packages (from transformers) (4.66.1)\r\n",
      "Requirement already satisfied: fsspec>=2023.5.0 in /opt/conda/lib/python3.10/site-packages (from huggingface-hub<1.0,>=0.19.3->transformers) (2023.12.2)\r\n",
      "Requirement already satisfied: pyparsing!=3.0.5,>=2.0.2 in /opt/conda/lib/python3.10/site-packages (from packaging>=20.0->transformers) (3.0.9)\r\n",
      "Requirement already satisfied: MarkupSafe>=2.0 in /opt/conda/lib/python3.10/site-packages (from jinja2->torch) (2.1.3)\r\n",
      "Requirement already satisfied: charset-normalizer<4,>=2 in /opt/conda/lib/python3.10/site-packages (from requests->torchvision) (3.2.0)\r\n",
      "Requirement already satisfied: idna<4,>=2.5 in /opt/conda/lib/python3.10/site-packages (from requests->torchvision) (3.4)\r\n",
      "Requirement already satisfied: urllib3<3,>=1.21.1 in /opt/conda/lib/python3.10/site-packages (from requests->torchvision) (1.26.15)\r\n",
      "Requirement already satisfied: certifi>=2017.4.17 in /opt/conda/lib/python3.10/site-packages (from requests->torchvision) (2023.11.17)\r\n",
      "Requirement already satisfied: mpmath>=0.19 in /opt/conda/lib/python3.10/site-packages (from sympy->torch) (1.3.0)\r\n"
     ]
    }
   ],
   "source": [
    "!pip install torch torchvision transformers"
   ]
  },
  {
   "cell_type": "code",
   "execution_count": 12,
   "id": "451f13c1",
   "metadata": {
    "execution": {
     "iopub.execute_input": "2024-01-05T05:28:28.417360Z",
     "iopub.status.busy": "2024-01-05T05:28:28.416636Z",
     "iopub.status.idle": "2024-01-05T05:28:56.862661Z",
     "shell.execute_reply": "2024-01-05T05:28:56.861808Z"
    },
    "papermill": {
     "duration": 28.462217,
     "end_time": "2024-01-05T05:28:56.865224",
     "exception": false,
     "start_time": "2024-01-05T05:28:28.403007",
     "status": "completed"
    },
    "tags": []
   },
   "outputs": [
    {
     "name": "stderr",
     "output_type": "stream",
     "text": [
      "/opt/conda/lib/python3.10/site-packages/scipy/__init__.py:146: UserWarning: A NumPy version >=1.16.5 and <1.23.0 is required for this version of SciPy (detected version 1.24.3\n",
      "  warnings.warn(f\"A NumPy version >={np_minversion} and <{np_maxversion}\"\n"
     ]
    }
   ],
   "source": [
    "import os\n",
    "import torch\n",
    "import torchvision\n",
    "from torchvision import transforms\n",
    "from torch.utils.data import DataLoader, Dataset\n",
    "from transformers import ViTForImageClassification\n",
    "from transformers import ViTFeatureExtractor\n",
    "import torch.nn as nn\n",
    "import torch.optim as optim\n",
    "from sklearn.metrics import classification_report\n",
    "import matplotlib.pyplot as plt\n"
   ]
  },
  {
   "cell_type": "code",
   "execution_count": 13,
   "id": "27588cbf",
   "metadata": {
    "execution": {
     "iopub.execute_input": "2024-01-05T05:28:56.892079Z",
     "iopub.status.busy": "2024-01-05T05:28:56.891437Z",
     "iopub.status.idle": "2024-01-05T05:28:57.146348Z",
     "shell.execute_reply": "2024-01-05T05:28:57.145418Z"
    },
    "papermill": {
     "duration": 0.270296,
     "end_time": "2024-01-05T05:28:57.148418",
     "exception": false,
     "start_time": "2024-01-05T05:28:56.878122",
     "status": "completed"
    },
    "tags": []
   },
   "outputs": [
    {
     "data": {
      "application/vnd.jupyter.widget-view+json": {
       "model_id": "841707de57eb4f55a30b242d76ca6d37",
       "version_major": 2,
       "version_minor": 0
      },
      "text/plain": [
       "preprocessor_config.json:   0%|          | 0.00/160 [00:00<?, ?B/s]"
      ]
     },
     "metadata": {},
     "output_type": "display_data"
    },
    {
     "name": "stderr",
     "output_type": "stream",
     "text": [
      "/opt/conda/lib/python3.10/site-packages/transformers/models/vit/feature_extraction_vit.py:28: FutureWarning: The class ViTFeatureExtractor is deprecated and will be removed in version 5 of Transformers. Please use ViTImageProcessor instead.\n",
      "  warnings.warn(\n"
     ]
    }
   ],
   "source": [
    "from PIL import Image\n",
    "import numpy as np\n",
    "\n",
    "class KidneyDataset(Dataset):\n",
    "    def __init__(self, root_dir, feature_extractor):\n",
    "        self.root_dir = root_dir\n",
    "        self.feature_extractor = feature_extractor\n",
    "        self.classes = ['caries', 'gingivitis', 'toothDiscoloration', 'ulcers', 'hypodontia', 'calculus']\n",
    "        self.data = []\n",
    "        for idx, cls in enumerate(self.classes):\n",
    "            path = os.path.join(root_dir, cls)\n",
    "            for img in os.listdir(path):\n",
    "                self.data.append((os.path.join(path, img), idx))\n",
    "\n",
    "    def __len__(self):\n",
    "        return len(self.data)\n",
    "\n",
    "    def __getitem__(self, idx):\n",
    "        img_path, label = self.data[idx]\n",
    "        image = Image.open(img_path)  # Load image as PIL image\n",
    "        image = image.resize((224, 224))  # Resize image\n",
    "\n",
    "        # Convert the PIL image to a NumPy array\n",
    "        image = np.array(image)\n",
    "\n",
    "        # Check if the image has an alpha channel (4 channels), and if so, remove it\n",
    "        if image.shape[-1] == 4:\n",
    "            image = image[..., :3]\n",
    "\n",
    "        image = self.feature_extractor(images=image, return_tensors=\"pt\").pixel_values[0]\n",
    "        return image, label\n",
    "\n",
    "\n",
    "\n",
    "root_dir = \"/kaggle/working/oral-diseases\"\n",
    "feature_extractor = ViTFeatureExtractor.from_pretrained('google/vit-base-patch16-224-in21k')\n",
    "dataset = KidneyDataset(root_dir, feature_extractor)\n",
    "\n",
    "# Split the dataset into train and test sets\n",
    "train_size = int(0.8 * len(dataset))\n",
    "test_size = len(dataset) - train_size\n",
    "train_dataset, test_dataset = torch.utils.data.random_split(dataset, [train_size, test_size])\n",
    "\n",
    "train_loader = DataLoader(train_dataset, batch_size=32, shuffle=True)\n",
    "test_loader = DataLoader(test_dataset, batch_size=32, shuffle=False)"
   ]
  },
  {
   "cell_type": "code",
   "execution_count": 14,
   "id": "e230d698",
   "metadata": {
    "execution": {
     "iopub.execute_input": "2024-01-05T05:28:57.174939Z",
     "iopub.status.busy": "2024-01-05T05:28:57.174588Z",
     "iopub.status.idle": "2024-01-05T05:28:59.880137Z",
     "shell.execute_reply": "2024-01-05T05:28:59.879353Z"
    },
    "papermill": {
     "duration": 2.721471,
     "end_time": "2024-01-05T05:28:59.882511",
     "exception": false,
     "start_time": "2024-01-05T05:28:57.161040",
     "status": "completed"
    },
    "tags": []
   },
   "outputs": [
    {
     "data": {
      "application/vnd.jupyter.widget-view+json": {
       "model_id": "b6c221c3ff96434cbb041c909b6e06b7",
       "version_major": 2,
       "version_minor": 0
      },
      "text/plain": [
       "config.json:   0%|          | 0.00/502 [00:00<?, ?B/s]"
      ]
     },
     "metadata": {},
     "output_type": "display_data"
    },
    {
     "data": {
      "application/vnd.jupyter.widget-view+json": {
       "model_id": "b9e97c9020304ec7a4dbb71dd9648278",
       "version_major": 2,
       "version_minor": 0
      },
      "text/plain": [
       "pytorch_model.bin:   0%|          | 0.00/346M [00:00<?, ?B/s]"
      ]
     },
     "metadata": {},
     "output_type": "display_data"
    },
    {
     "name": "stderr",
     "output_type": "stream",
     "text": [
      "Some weights of ViTForImageClassification were not initialized from the model checkpoint at google/vit-base-patch16-224-in21k and are newly initialized: ['classifier.weight', 'classifier.bias']\n",
      "You should probably TRAIN this model on a down-stream task to be able to use it for predictions and inference.\n"
     ]
    }
   ],
   "source": [
    "class ViTClassifier(nn.Module):\n",
    "    def __init__(self, num_classes):\n",
    "        super(ViTClassifier, self).__init__()\n",
    "        self.vit = ViTForImageClassification.from_pretrained('google/vit-base-patch16-224-in21k')\n",
    "        self.vit.classifier = nn.Linear(self.vit.classifier.in_features, num_classes)\n",
    "\n",
    "    def forward(self, x):\n",
    "        x = self.vit(pixel_values=x).logits\n",
    "        return x\n",
    "\n",
    "model = ViTClassifier(num_classes=6)\n"
   ]
  },
  {
   "cell_type": "code",
   "execution_count": 15,
   "id": "034b4be9",
   "metadata": {
    "execution": {
     "iopub.execute_input": "2024-01-05T05:28:59.910957Z",
     "iopub.status.busy": "2024-01-05T05:28:59.910133Z",
     "iopub.status.idle": "2024-01-05T05:28:59.915201Z",
     "shell.execute_reply": "2024-01-05T05:28:59.914301Z"
    },
    "papermill": {
     "duration": 0.021135,
     "end_time": "2024-01-05T05:28:59.917149",
     "exception": false,
     "start_time": "2024-01-05T05:28:59.896014",
     "status": "completed"
    },
    "tags": []
   },
   "outputs": [],
   "source": [
    "import numpy as np\n",
    "import pandas as pd\n",
    "import matplotlib.pyplot as plt\n",
    "from sklearn.metrics import confusion_matrix, classification_report, accuracy_score, precision_recall_fscore_support\n"
   ]
  },
  {
   "cell_type": "code",
   "execution_count": 16,
   "id": "afb652f1",
   "metadata": {
    "execution": {
     "iopub.execute_input": "2024-01-05T05:28:59.944388Z",
     "iopub.status.busy": "2024-01-05T05:28:59.944061Z",
     "iopub.status.idle": "2024-01-05T05:29:00.312579Z",
     "shell.execute_reply": "2024-01-05T05:29:00.311590Z"
    },
    "papermill": {
     "duration": 0.384962,
     "end_time": "2024-01-05T05:29:00.315068",
     "exception": false,
     "start_time": "2024-01-05T05:28:59.930106",
     "status": "completed"
    },
    "tags": []
   },
   "outputs": [],
   "source": [
    "device = torch.device(\"cuda\" if torch.cuda.is_available() else \"cpu\")\n",
    "model.to(device)\n",
    "\n",
    "criterion = nn.CrossEntropyLoss()\n",
    "optimizer = optim.Adam(model.parameters(), lr=0.001)"
   ]
  },
  {
   "cell_type": "code",
   "execution_count": 17,
   "id": "c2743b94",
   "metadata": {
    "execution": {
     "iopub.execute_input": "2024-01-05T05:29:00.342633Z",
     "iopub.status.busy": "2024-01-05T05:29:00.341760Z",
     "iopub.status.idle": "2024-01-05T16:25:40.864415Z",
     "shell.execute_reply": "2024-01-05T16:25:40.863435Z"
    },
    "papermill": {
     "duration": 39400.55976,
     "end_time": "2024-01-05T16:25:40.887670",
     "exception": false,
     "start_time": "2024-01-05T05:29:00.327910",
     "status": "completed"
    },
    "tags": []
   },
   "outputs": [
    {
     "name": "stdout",
     "output_type": "stream",
     "text": [
      "Epoch 1, Loss: 1.7520585211172497, Accuracy: 0.22623900450547094\n",
      "Epoch 2, Loss: 1.7298272227587765, Accuracy: 0.24415361510405492\n",
      "Epoch 3, Loss: 1.4953991186945406, Accuracy: 0.3767431881570478\n",
      "Epoch 4, Loss: 1.295923579433193, Accuracy: 0.46492169062432953\n",
      "Epoch 5, Loss: 1.1770536403541696, Accuracy: 0.5174855181291569\n",
      "Epoch 6, Loss: 1.0755103263136458, Accuracy: 0.560394765071873\n",
      "Epoch 7, Loss: 0.9872992434730269, Accuracy: 0.5919330615747693\n",
      "Epoch 8, Loss: 0.9274166981651358, Accuracy: 0.6218622613173139\n",
      "Epoch 9, Loss: 0.8904509159595999, Accuracy: 0.6397768719158978\n",
      "Epoch 10, Loss: 0.8341968558626632, Accuracy: 0.659193306157477\n",
      "Epoch 11, Loss: 0.8012042241553737, Accuracy: 0.6750697275262819\n",
      "Epoch 12, Loss: 0.7606957146566208, Accuracy: 0.6921261531860116\n",
      "Epoch 13, Loss: 0.7462707124140164, Accuracy: 0.6993134520489166\n",
      "Epoch 14, Loss: 0.7243632755867423, Accuracy: 0.7063934777944647\n",
      "Epoch 15, Loss: 0.6855748084514108, Accuracy: 0.7253808195666166\n",
      "Epoch 16, Loss: 0.6551780956861091, Accuracy: 0.7352499463634413\n",
      "Epoch 17, Loss: 0.6525212006822024, Accuracy: 0.7380390474147178\n",
      "Epoch 18, Loss: 0.6339759614369641, Accuracy: 0.7465136236859043\n",
      "Epoch 19, Loss: 0.6004254623022798, Accuracy: 0.7644282342844884\n",
      "Epoch 20, Loss: 0.6025590796584952, Accuracy: 0.7601373095902166\n",
      "Epoch 21, Loss: 0.5665521810520185, Accuracy: 0.7692555245655439\n",
      "Epoch 22, Loss: 0.53418877690214, Accuracy: 0.7914610598583995\n",
      "Epoch 23, Loss: 0.5299800759411022, Accuracy: 0.7884574125724093\n",
      "Epoch 24, Loss: 0.5082335580293447, Accuracy: 0.7985410856039477\n",
      "Epoch 25, Loss: 0.481522636003282, Accuracy: 0.8061574769362798\n",
      "Epoch 26, Loss: 0.48562035076830484, Accuracy: 0.8036901952370736\n",
      "Epoch 27, Loss: 0.493306167270631, Accuracy: 0.8063720231709933\n",
      "Epoch 28, Loss: 0.4667998972820909, Accuracy: 0.8151684187942502\n",
      "Epoch 29, Loss: 0.47222745020503865, Accuracy: 0.8106629478652649\n",
      "Epoch 30, Loss: 0.4524336451639051, Accuracy: 0.8211757133662304\n",
      "Epoch 31, Loss: 0.4159463064311302, Accuracy: 0.8317957519845527\n",
      "Epoch 32, Loss: 0.41676693353546806, Accuracy: 0.8345848530358292\n",
      "Epoch 33, Loss: 0.3788323105657346, Accuracy: 0.85260673675177\n",
      "Epoch 34, Loss: 0.3921163448017754, Accuracy: 0.8405921476078095\n",
      "Epoch 35, Loss: 0.3941941719553242, Accuracy: 0.847457627118644\n",
      "Epoch 36, Loss: 0.37699729227141976, Accuracy: 0.8519630980476293\n",
      "Epoch 37, Loss: 0.44126161693097793, Accuracy: 0.8225702638918687\n",
      "Epoch 38, Loss: 0.35049700696174413, Accuracy: 0.8603304012014589\n",
      "Epoch 39, Loss: 0.35359334973745965, Accuracy: 0.8576485732675392\n",
      "Epoch 40, Loss: 0.33057457895005404, Accuracy: 0.8637631409568762\n",
      "Epoch 41, Loss: 0.315645214782594, Accuracy: 0.8707358935850675\n",
      "Epoch 42, Loss: 0.28912360767183237, Accuracy: 0.8816777515554602\n",
      "Epoch 43, Loss: 0.2853873301399489, Accuracy: 0.8850032181935207\n",
      "Epoch 44, Loss: 0.3864751455871618, Accuracy: 0.8438103411285132\n",
      "Epoch 45, Loss: 0.3495036950207328, Accuracy: 0.8600085818493886\n",
      "Epoch 46, Loss: 0.32288267338418797, Accuracy: 0.8693413430594293\n",
      "Epoch 47, Loss: 0.3346910195246543, Accuracy: 0.8660158764213688\n",
      "Epoch 48, Loss: 0.2787952238234551, Accuracy: 0.8880068654795108\n",
      "Epoch 49, Loss: 0.22104044504183, Accuracy: 0.9107487663591504\n",
      "Epoch 50, Loss: 0.2672761548565675, Accuracy: 0.8916541514696417\n",
      "Epoch 51, Loss: 0.2475338946670702, Accuracy: 0.8935850675820639\n",
      "Epoch 52, Loss: 0.241330793254996, Accuracy: 0.8968032611027676\n",
      "Epoch 53, Loss: 0.27727376853358254, Accuracy: 0.8853250375455911\n",
      "Epoch 54, Loss: 0.27879794495665045, Accuracy: 0.8856468568976614\n",
      "Epoch 55, Loss: 0.223407802350615, Accuracy: 0.9071014803690195\n",
      "Epoch 56, Loss: 0.2206833448949946, Accuracy: 0.9061360223128084\n",
      "Epoch 57, Loss: 0.24592584198060102, Accuracy: 0.8984123578631195\n",
      "Epoch 58, Loss: 0.22157711608411923, Accuracy: 0.9074232997210899\n",
      "Epoch 59, Loss: 0.22438940027575582, Accuracy: 0.9079596653078739\n",
      "Epoch 60, Loss: 0.2578428570844539, Accuracy: 0.8927268826432097\n",
      "Epoch 61, Loss: 0.25050456967357904, Accuracy: 0.8975541729242652\n",
      "Epoch 62, Loss: 0.2111655215107619, Accuracy: 0.9097833083029393\n",
      "Epoch 63, Loss: 0.1818331840818059, Accuracy: 0.9207251662733319\n",
      "Epoch 64, Loss: 0.1851003420003371, Accuracy: 0.9185797039261961\n",
      "Epoch 65, Loss: 0.22592158382120606, Accuracy: 0.9036687406136023\n",
      "Epoch 66, Loss: 0.20759268438647668, Accuracy: 0.9116069512980047\n",
      "Epoch 67, Loss: 0.1942577896040086, Accuracy: 0.9186869770435528\n",
      "Epoch 68, Loss: 0.21446960677762758, Accuracy: 0.9102124007723664\n",
      "Epoch 69, Loss: 0.17712693392260842, Accuracy: 0.9221197167989702\n",
      "Epoch 70, Loss: 0.21544307241956256, Accuracy: 0.9084960308946578\n",
      "Epoch 71, Loss: 0.19249697013643302, Accuracy: 0.9197597082171208\n",
      "Epoch 72, Loss: 0.17359961310325012, Accuracy: 0.9231924479725381\n",
      "Epoch 73, Loss: 0.18653794182847216, Accuracy: 0.9197597082171208\n",
      "Epoch 74, Loss: 0.18767573369973123, Accuracy: 0.9220124436816134\n",
      "Epoch 75, Loss: 0.212552757270328, Accuracy: 0.9110705857112208\n",
      "Epoch 76, Loss: 0.1646333133470114, Accuracy: 0.928877923192448\n",
      "Epoch 77, Loss: 0.18523555979362294, Accuracy: 0.9191160695129801\n",
      "Epoch 78, Loss: 0.28475551110730596, Accuracy: 0.8829650289637417\n",
      "Epoch 79, Loss: 0.16984188733367275, Accuracy: 0.9257670027891011\n",
      "Epoch 80, Loss: 0.177198713645339, Accuracy: 0.9224415361510405\n",
      "Epoch 81, Loss: 0.15077410123872328, Accuracy: 0.9339197597082172\n",
      "Epoch 82, Loss: 0.19206250223095134, Accuracy: 0.9215833512121863\n",
      "Epoch 83, Loss: 0.17785613349804733, Accuracy: 0.9241579060287491\n",
      "Epoch 84, Loss: 0.25188872127870277, Accuracy: 0.8947650718729886\n",
      "Epoch 85, Loss: 0.18497149640860114, Accuracy: 0.9221197167989702\n",
      "Epoch 86, Loss: 0.15510022407397628, Accuracy: 0.9320961167131517\n",
      "Epoch 87, Loss: 0.1596467785779642, Accuracy: 0.9280197382535936\n",
      "Epoch 88, Loss: 0.1612600453440355, Accuracy: 0.9295215618965887\n",
      "Epoch 89, Loss: 0.17799360087549645, Accuracy: 0.9258742759064579\n",
      "Epoch 90, Loss: 0.15844585692943775, Accuracy: 0.9285561038403776\n",
      "Epoch 91, Loss: 0.15013037472708177, Accuracy: 0.9348852177644282\n",
      "Epoch 92, Loss: 0.2445453374506268, Accuracy: 0.9020596438532503\n",
      "Epoch 93, Loss: 0.17931180114360296, Accuracy: 0.9230851748551813\n",
      "Epoch 94, Loss: 0.2109168502055619, Accuracy: 0.9120360437674319\n",
      "Epoch 95, Loss: 0.14784715229275394, Accuracy: 0.9337052134735035\n",
      "Epoch 96, Loss: 0.1527873733757089, Accuracy: 0.9330615747693628\n",
      "Epoch 97, Loss: 0.2211368764457229, Accuracy: 0.908388757777301\n",
      "Epoch 98, Loss: 0.15699262941919573, Accuracy: 0.9287706500750912\n",
      "Epoch 99, Loss: 0.5081777350645359, Accuracy: 0.8087320317528427\n",
      "Epoch 100, Loss: 0.2145645530856125, Accuracy: 0.9126796824715726\n"
     ]
    }
   ],
   "source": [
    "train_losses = []\n",
    "train_accuracies = []\n",
    "num_epochs = 100\n",
    "\n",
    "for epoch in range(num_epochs):\n",
    "    model.train()\n",
    "    running_loss = 0.0\n",
    "    correct = 0\n",
    "    total = 0\n",
    "    for inputs, labels in train_loader:\n",
    "        inputs, labels = inputs.to(device), labels.to(device)\n",
    "        optimizer.zero_grad()\n",
    "        outputs = model(inputs)\n",
    "        loss = criterion(outputs, labels)\n",
    "        loss.backward()\n",
    "        optimizer.step()\n",
    "\n",
    "        running_loss += loss.item()\n",
    "        _, predicted = torch.max(outputs.data, 1)\n",
    "        total += labels.size(0)\n",
    "        correct += (predicted == labels).sum().item()\n",
    "\n",
    "    epoch_loss = running_loss / len(train_loader)\n",
    "    epoch_acc = correct / total\n",
    "    train_losses.append(epoch_loss)\n",
    "    train_accuracies.append(epoch_acc)\n",
    "\n",
    "    print(f'Epoch {epoch + 1}, Loss: {epoch_loss}, Accuracy: {epoch_acc}')\n"
   ]
  },
  {
   "cell_type": "code",
   "execution_count": 18,
   "id": "9bf8a0b6",
   "metadata": {
    "execution": {
     "iopub.execute_input": "2024-01-05T16:25:40.936115Z",
     "iopub.status.busy": "2024-01-05T16:25:40.935635Z",
     "iopub.status.idle": "2024-01-05T16:26:31.657118Z",
     "shell.execute_reply": "2024-01-05T16:26:31.655931Z"
    },
    "papermill": {
     "duration": 50.770662,
     "end_time": "2024-01-05T16:26:31.681181",
     "exception": false,
     "start_time": "2024-01-05T16:25:40.910519",
     "status": "completed"
    },
    "tags": []
   },
   "outputs": [
    {
     "name": "stdout",
     "output_type": "stream",
     "text": [
      "Accuracy: 0.7563277563277563\n",
      "Precision: 0.7571651224880669\n",
      "Recall: 0.7455785090289941\n",
      "F1 Score: 0.7493921078857695\n",
      "                    precision    recall  f1-score   support\n",
      "\n",
      "            caries       0.79      0.70      0.74       454\n",
      "        gingivitis       0.67      0.77      0.72       469\n",
      "toothDiscoloration       0.80      0.69      0.74       365\n",
      "            ulcers       0.87      0.90      0.89       514\n",
      "        hypodontia       0.86      0.79      0.83       238\n",
      "          calculus       0.56      0.62      0.58       291\n",
      "\n",
      "          accuracy                           0.76      2331\n",
      "         macro avg       0.76      0.75      0.75      2331\n",
      "      weighted avg       0.76      0.76      0.76      2331\n",
      "\n",
      "[[320  34  41  31  14  14]\n",
      " [  7 359   8   1   5  89]\n",
      " [ 34  23 253  36   3  16]\n",
      " [ 29   1  14 463   7   0]\n",
      " [ 11  14   0   0 189  24]\n",
      " [  5 103   2   0   2 179]]\n"
     ]
    }
   ],
   "source": [
    "model.eval()\n",
    "all_preds = []\n",
    "all_labels = []\n",
    "with torch.no_grad():\n",
    "    for inputs, labels in test_loader:\n",
    "        inputs, labels = inputs.to(device), labels.to(device)\n",
    "        outputs = model(inputs)\n",
    "        _, preds = torch.max(outputs, 1)\n",
    "        all_preds.extend(preds.cpu().numpy())\n",
    "        all_labels.extend(labels.cpu().numpy())\n",
    "\n",
    "accuracy = accuracy_score(all_labels, all_preds)\n",
    "precision, recall, f1, _ = precision_recall_fscore_support(all_labels, all_preds, average='macro')\n",
    "print(f\"Accuracy: {accuracy}\\nPrecision: {precision}\\nRecall: {recall}\\nF1 Score: {f1}\")\n",
    "print(classification_report(all_labels, all_preds, target_names=['caries', 'gingivitis', 'toothDiscoloration', 'ulcers', 'hypodontia', 'calculus']))\n",
    "\n",
    "# Confusion Matrix\n",
    "conf_matrix = confusion_matrix(all_labels, all_preds)\n",
    "print(conf_matrix)\n"
   ]
  },
  {
   "cell_type": "code",
   "execution_count": 19,
   "id": "788c02e5",
   "metadata": {
    "execution": {
     "iopub.execute_input": "2024-01-05T16:26:31.723344Z",
     "iopub.status.busy": "2024-01-05T16:26:31.722986Z",
     "iopub.status.idle": "2024-01-05T16:26:32.243918Z",
     "shell.execute_reply": "2024-01-05T16:26:32.243005Z"
    },
    "papermill": {
     "duration": 0.545043,
     "end_time": "2024-01-05T16:26:32.246510",
     "exception": false,
     "start_time": "2024-01-05T16:26:31.701467",
     "status": "completed"
    },
    "tags": []
   },
   "outputs": [
    {
     "data": {
      "image/png": "[encoded data removed]",
      "text/plain": [
       "<Figure size 1200x500 with 2 Axes>"
      ]
     },
     "metadata": {},
     "output_type": "display_data"
    }
   ],
   "source": [
    "plt.figure(figsize=(12, 5))\n",
    "plt.subplot(1, 2, 1)\n",
    "plt.plot(train_losses, label='Training Loss')\n",
    "plt.title('Training Loss')\n",
    "plt.legend()\n",
    "\n",
    "plt.subplot(1, 2, 2)\n",
    "plt.plot(train_accuracies, label='Training Accuracy')\n",
    "plt.title('Training Accuracy')\n",
    "plt.legend()\n",
    "\n",
    "plt.show()\n"
   ]
  },
  {
   "cell_type": "code",
   "execution_count": 20,
   "id": "0ccd74fb",
   "metadata": {
    "execution": {
     "iopub.execute_input": "2024-01-05T16:26:32.291280Z",
     "iopub.status.busy": "2024-01-05T16:26:32.290551Z",
     "iopub.status.idle": "2024-01-05T16:26:32.298332Z",
     "shell.execute_reply": "2024-01-05T16:26:32.297551Z"
    },
    "papermill": {
     "duration": 0.032086,
     "end_time": "2024-01-05T16:26:32.300250",
     "exception": false,
     "start_time": "2024-01-05T16:26:32.268164",
     "status": "completed"
    },
    "tags": []
   },
   "outputs": [],
   "source": [
    "df = pd.DataFrame({\n",
    "    'Model': ['ViTClassifier'],\n",
    "    'Accuracy': [accuracy],\n",
    "    'Precision': [precision],\n",
    "    'Recall': [recall],\n",
    "    'F1 Score': [f1]\n",
    "})\n",
    "df.to_csv('model_performance.csv', index=False)\n"
   ]
  },
  {
   "cell_type": "code",
   "execution_count": 21,
   "id": "e9a04249",
   "metadata": {
    "execution": {
     "iopub.execute_input": "2024-01-05T16:26:32.344589Z",
     "iopub.status.busy": "2024-01-05T16:26:32.343853Z",
     "iopub.status.idle": "2024-01-05T16:26:32.348962Z",
     "shell.execute_reply": "2024-01-05T16:26:32.348137Z"
    },
    "papermill": {
     "duration": 0.029477,
     "end_time": "2024-01-05T16:26:32.350958",
     "exception": false,
     "start_time": "2024-01-05T16:26:32.321481",
     "status": "completed"
    },
    "tags": []
   },
   "outputs": [],
   "source": [
    "np.savetxt(\"confusion_matrix.csv\", conf_matrix, delimiter=\",\", fmt='%d')\n"
   ]
  },
  {
   "cell_type": "code",
   "execution_count": 22,
   "id": "f416fce8",
   "metadata": {
    "execution": {
     "iopub.execute_input": "2024-01-05T16:26:32.395536Z",
     "iopub.status.busy": "2024-01-05T16:26:32.394891Z",
     "iopub.status.idle": "2024-01-05T16:26:32.858448Z",
     "shell.execute_reply": "2024-01-05T16:26:32.857652Z"
    },
    "papermill": {
     "duration": 0.488397,
     "end_time": "2024-01-05T16:26:32.860744",
     "exception": false,
     "start_time": "2024-01-05T16:26:32.372347",
     "status": "completed"
    },
    "tags": []
   },
   "outputs": [],
   "source": [
    "torch.save(model.state_dict(), 'vit_kidney_disease_classifier.pth')"
   ]
  },
  {
   "cell_type": "code",
   "execution_count": 23,
   "id": "8b8e7cfb",
   "metadata": {
    "execution": {
     "iopub.execute_input": "2024-01-05T16:26:32.905083Z",
     "iopub.status.busy": "2024-01-05T16:26:32.904743Z",
     "iopub.status.idle": "2024-01-05T16:26:33.785118Z",
     "shell.execute_reply": "2024-01-05T16:26:33.784019Z"
    },
    "papermill": {
     "duration": 0.90521,
     "end_time": "2024-01-05T16:26:33.787567",
     "exception": false,
     "start_time": "2024-01-05T16:26:32.882357",
     "status": "completed"
    },
    "tags": []
   },
   "outputs": [
    {
     "data": {
      "image/png": "[encoded data removed]",
      "text/plain": [
       "<Figure size 1000x700 with 2 Axes>"
      ]
     },
     "metadata": {},
     "output_type": "display_data"
    }
   ],
   "source": [
    "import seaborn as sns\n",
    "\n",
    "# Assuming `conf_matrix` is your confusion matrix obtained from the evaluation step\n",
    "plt.figure(figsize=(10, 7))\n",
    "sns.heatmap(conf_matrix, annot=True, fmt='d', cmap='Blues', xticklabels=['caries', 'gingivitis', 'toothDiscoloration', 'ulcers', 'hypodontia', 'calculus'], yticklabels=['caries', 'gingivitis', 'toothDiscoloration', 'ulcers', 'hypodontia', 'calculus'])\n",
    "plt.xlabel('Predicted')\n",
    "plt.ylabel('True')\n",
    "plt.title('Confusion Matrix')\n",
    "plt.savefig('confusion_matrix.png')\n",
    "plt.show()\n"
   ]
  },
  {
   "cell_type": "code",
   "execution_count": 24,
   "id": "3abe71b0",
   "metadata": {
    "execution": {
     "iopub.execute_input": "2024-01-05T16:26:33.840063Z",
     "iopub.status.busy": "2024-01-05T16:26:33.839620Z",
     "iopub.status.idle": "2024-01-05T16:26:34.054091Z",
     "shell.execute_reply": "2024-01-05T16:26:34.053053Z"
    },
    "papermill": {
     "duration": 0.243665,
     "end_time": "2024-01-05T16:26:34.056554",
     "exception": false,
     "start_time": "2024-01-05T16:26:33.812889",
     "status": "completed"
    },
    "tags": []
   },
   "outputs": [
    {
     "data": {
      "text/plain": [
       "ViTClassifier(\n",
       "  (vit): ViTForImageClassification(\n",
       "    (vit): ViTModel(\n",
       "      (embeddings): ViTEmbeddings(\n",
       "        (patch_embeddings): ViTPatchEmbeddings(\n",
       "          (projection): Conv2d(3, 768, kernel_size=(16, 16), stride=(16, 16))\n",
       "        )\n",
       "        (dropout): Dropout(p=0.0, inplace=False)\n",
       "      )\n",
       "      (encoder): ViTEncoder(\n",
       "        (layer): ModuleList(\n",
       "          (0-11): 12 x ViTLayer(\n",
       "            (attention): ViTAttention(\n",
       "              (attention): ViTSelfAttention(\n",
       "                (query): Linear(in_features=768, out_features=768, bias=True)\n",
       "                (key): Linear(in_features=768, out_features=768, bias=True)\n",
       "                (value): Linear(in_features=768, out_features=768, bias=True)\n",
       "                (dropout): Dropout(p=0.0, inplace=False)\n",
       "              )\n",
       "              (output): ViTSelfOutput(\n",
       "                (dense): Linear(in_features=768, out_features=768, bias=True)\n",
       "                (dropout): Dropout(p=0.0, inplace=False)\n",
       "              )\n",
       "            )\n",
       "            (intermediate): ViTIntermediate(\n",
       "              (dense): Linear(in_features=768, out_features=3072, bias=True)\n",
       "              (intermediate_act_fn): GELUActivation()\n",
       "            )\n",
       "            (output): ViTOutput(\n",
       "              (dense): Linear(in_features=3072, out_features=768, bias=True)\n",
       "              (dropout): Dropout(p=0.0, inplace=False)\n",
       "            )\n",
       "            (layernorm_before): LayerNorm((768,), eps=1e-12, elementwise_affine=True)\n",
       "            (layernorm_after): LayerNorm((768,), eps=1e-12, elementwise_affine=True)\n",
       "          )\n",
       "        )\n",
       "      )\n",
       "      (layernorm): LayerNorm((768,), eps=1e-12, elementwise_affine=True)\n",
       "    )\n",
       "    (classifier): Linear(in_features=768, out_features=6, bias=True)\n",
       "  )\n",
       ")"
      ]
     },
     "execution_count": 24,
     "metadata": {},
     "output_type": "execute_result"
    }
   ],
   "source": [
    "model_path = '/kaggle/working/vit_kidney_disease_classifier.pth'\n",
    "model.load_state_dict(torch.load(model_path))\n",
    "model.eval()  # Set the model to evaluation mode\n"
   ]
  },
  {
   "cell_type": "code",
   "execution_count": 25,
   "id": "1eaf6b0d",
   "metadata": {
    "execution": {
     "iopub.execute_input": "2024-01-05T16:26:34.108824Z",
     "iopub.status.busy": "2024-01-05T16:26:34.107930Z",
     "iopub.status.idle": "2024-01-05T16:27:25.022132Z",
     "shell.execute_reply": "2024-01-05T16:27:25.021076Z"
    },
    "papermill": {
     "duration": 50.965394,
     "end_time": "2024-01-05T16:27:25.047240",
     "exception": false,
     "start_time": "2024-01-05T16:26:34.081846",
     "status": "completed"
    },
    "tags": []
   },
   "outputs": [
    {
     "name": "stdout",
     "output_type": "stream",
     "text": [
      "Accuracy: 0.7563277563277563\n",
      "                    precision    recall  f1-score   support\n",
      "\n",
      "            caries       0.79      0.70      0.74       454\n",
      "        gingivitis       0.67      0.77      0.72       469\n",
      "toothDiscoloration       0.80      0.69      0.74       365\n",
      "            ulcers       0.87      0.90      0.89       514\n",
      "        hypodontia       0.86      0.79      0.83       238\n",
      "          calculus       0.56      0.62      0.58       291\n",
      "\n",
      "          accuracy                           0.76      2331\n",
      "         macro avg       0.76      0.75      0.75      2331\n",
      "      weighted avg       0.76      0.76      0.76      2331\n",
      "\n"
     ]
    }
   ],
   "source": [
    "device = torch.device(\"cuda\" if torch.cuda.is_available() else \"cpu\")\n",
    "model.to(device)\n",
    "\n",
    "all_preds = []\n",
    "all_labels = []\n",
    "with torch.no_grad():\n",
    "    for inputs, labels in test_loader:\n",
    "        inputs, labels = inputs.to(device), labels.to(device)\n",
    "        outputs = model(inputs)\n",
    "        _, preds = torch.max(outputs, 1)\n",
    "        all_preds.extend(preds.cpu().numpy())\n",
    "        all_labels.extend(labels.cpu().numpy())\n",
    "\n",
    "# Calculate accuracy and other metrics if needed\n",
    "accuracy = accuracy_score(all_labels, all_preds)\n",
    "print(f'Accuracy: {accuracy}')\n",
    "\n",
    "# Print the classification report\n",
    "print(classification_report(all_labels, all_preds, target_names=['caries', 'gingivitis', 'toothDiscoloration', 'ulcers', 'hypodontia', 'calculus']))\n"
   ]
  },
  {
   "cell_type": "code",
   "execution_count": null,
   "id": "ed30f6f7",
   "metadata": {
    "papermill": {
     "duration": 0.025224,
     "end_time": "2024-01-05T16:27:25.095421",
     "exception": false,
     "start_time": "2024-01-05T16:27:25.070197",
     "status": "completed"
    },
    "tags": []
   },
   "outputs": [],
   "source": []
  },
  {
   "cell_type": "code",
   "execution_count": null,
   "id": "8436f93f",
   "metadata": {
    "papermill": {
     "duration": 0.024247,
     "end_time": "2024-01-05T16:27:25.144663",
     "exception": false,
     "start_time": "2024-01-05T16:27:25.120416",
     "status": "completed"
    },
    "tags": []
   },
   "outputs": [],
   "source": []
  },
  {
   "cell_type": "code",
   "execution_count": null,
   "id": "20a15832",
   "metadata": {
    "papermill": {
     "duration": 0.024087,
     "end_time": "2024-01-05T16:27:25.192655",
     "exception": false,
     "start_time": "2024-01-05T16:27:25.168568",
     "status": "completed"
    },
    "tags": []
   },
   "outputs": [],
   "source": []
  },
  {
   "cell_type": "code",
   "execution_count": null,
   "id": "32a92606",
   "metadata": {
    "papermill": {
     "duration": 0.022902,
     "end_time": "2024-01-05T16:27:25.239517",
     "exception": false,
     "start_time": "2024-01-05T16:27:25.216615",
     "status": "completed"
    },
    "tags": []
   },
   "outputs": [],
   "source": []
  },
  {
   "cell_type": "code",
   "execution_count": null,
   "id": "0c02d4eb",
   "metadata": {
    "papermill": {
     "duration": 0.023701,
     "end_time": "2024-01-05T16:27:25.285582",
     "exception": false,
     "start_time": "2024-01-05T16:27:25.261881",
     "status": "completed"
    },
    "tags": []
   },
   "outputs": [],
   "source": []
  },
  {
   "cell_type": "code",
   "execution_count": null,
   "id": "b78541c3",
   "metadata": {
    "papermill": {
     "duration": 0.023023,
     "end_time": "2024-01-05T16:27:25.332230",
     "exception": false,
     "start_time": "2024-01-05T16:27:25.309207",
     "status": "completed"
    },
    "tags": []
   },
   "outputs": [],
   "source": []
  },
  {
   "cell_type": "code",
   "execution_count": null,
   "id": "a73e9b1d",
   "metadata": {
    "papermill": {
     "duration": 0.022228,
     "end_time": "2024-01-05T16:27:25.377413",
     "exception": false,
     "start_time": "2024-01-05T16:27:25.355185",
     "status": "completed"
    },
    "tags": []
   },
   "outputs": [],
   "source": []
  },
  {
   "cell_type": "code",
   "execution_count": null,
   "id": "d51a1090",
   "metadata": {
    "papermill": {
     "duration": 0.022662,
     "end_time": "2024-01-05T16:27:25.422577",
     "exception": false,
     "start_time": "2024-01-05T16:27:25.399915",
     "status": "completed"
    },
    "tags": []
   },
   "outputs": [],
   "source": []
  },
  {
   "cell_type": "code",
   "execution_count": null,
   "id": "6ec5917d",
   "metadata": {
    "papermill": {
     "duration": 0.022845,
     "end_time": "2024-01-05T16:27:25.468865",
     "exception": false,
     "start_time": "2024-01-05T16:27:25.446020",
     "status": "completed"
    },
    "tags": []
   },
   "outputs": [],
   "source": []
  },
  {
   "cell_type": "code",
   "execution_count": null,
   "id": "4e4cfa18",
   "metadata": {
    "papermill": {
     "duration": 0.022278,
     "end_time": "2024-01-05T16:27:25.513445",
     "exception": false,
     "start_time": "2024-01-05T16:27:25.491167",
     "status": "completed"
    },
    "tags": []
   },
   "outputs": [],
   "source": []
  },
  {
   "cell_type": "code",
   "execution_count": null,
   "id": "3adda53d",
   "metadata": {
    "papermill": {
     "duration": 0.022763,
     "end_time": "2024-01-05T16:27:25.558824",
     "exception": false,
     "start_time": "2024-01-05T16:27:25.536061",
     "status": "completed"
    },
    "tags": []
   },
   "outputs": [],
   "source": []
  },
  {
   "cell_type": "code",
   "execution_count": null,
   "id": "7ac331f1",
   "metadata": {
    "papermill": {
     "duration": 0.022581,
     "end_time": "2024-01-05T16:27:25.605333",
     "exception": false,
     "start_time": "2024-01-05T16:27:25.582752",
     "status": "completed"
    },
    "tags": []
   },
   "outputs": [],
   "source": []
  },
  {
   "cell_type": "code",
   "execution_count": null,
   "id": "01f9cd21",
   "metadata": {
    "papermill": {
     "duration": 0.022023,
     "end_time": "2024-01-05T16:27:25.650142",
     "exception": false,
     "start_time": "2024-01-05T16:27:25.628119",
     "status": "completed"
    },
    "tags": []
   },
   "outputs": [],
   "source": []
  },
  {
   "cell_type": "code",
   "execution_count": null,
   "id": "e0379d76",
   "metadata": {
    "papermill": {
     "duration": 0.022431,
     "end_time": "2024-01-05T16:27:25.695148",
     "exception": false,
     "start_time": "2024-01-05T16:27:25.672717",
     "status": "completed"
    },
    "tags": []
   },
   "outputs": [],
   "source": []
  }
 ],
 "metadata": {
  "kaggle": {
   "accelerator": "nvidiaTeslaT4",
   "dataSources": [
    {
     "datasetId": 2729190,
     "sourceId": 5797207,
     "sourceType": "datasetVersion"
    }
   ],
   "dockerImageVersionId": 30627,
   "isGpuEnabled": true,
   "isInternetEnabled": true,
   "language": "python",
   "sourceType": "notebook"
  },
  "kernelspec": {
   "display_name": "Python 3",
   "language": "python",
   "name": "python3"
  },
  "language_info": {
   "codemirror_mode": {
    "name": "ipython",
    "version": 3
   },
   "file_extension": ".py",
   "mimetype": "text/x-python",
   "name": "python",
   "nbconvert_exporter": "python",
   "pygments_lexer": "ipython3",
   "version": "3.10.12"
  },
  "papermill": {
   "default_parameters": {},
   "duration": 39646.465812,
   "end_time": "2024-01-05T16:27:28.629546",
   "environment_variables": {},
   "exception": null,
   "input_path": "__notebook__.ipynb",
   "output_path": "__notebook__.ipynb",
   "parameters": {},
   "start_time": "2024-01-05T05:26:42.163734",
   "version": "2.4.0"
  },
  "widgets": {
   "application/vnd.jupyter.widget-state+json": {
    "state": {
     "0423fd5b15eb4015bf5fea964b2b5398": {
      "model_module": "@jupyter-widgets/controls",
      "model_module_version": "1.5.0",
      "model_name": "HTMLModel",
      "state": {
       "_dom_classes": [],
       "_model_module": "@jupyter-widgets/controls",
       "_model_module_version": "1.5.0",
       "_model_name": "HTMLModel",
       "_view_count": null,
       "_view_module": "@jupyter-widgets/controls",
       "_view_module_version": "1.5.0",
       "_view_name": "HTMLView",
       "description": "",
       "description_tooltip": null,
       "layout": "IPY_MODEL_ed5645882a4c432fb52b3b73fa58ba82",
       "placeholder": "​",
       "style": "IPY_MODEL_82bc33d6fff7494f8a24e6f11ebb822f",
       "value": " 502/502 [00:00&lt;00:00, 40.9kB/s]"
      }
     },
     "04df941113a94b8fa3608261f9aadaba": {
      "model_module": "@jupyter-widgets/base",
      "model_module_version": "1.2.0",
      "model_name": "LayoutModel",
      "state": {
       "_model_module": "@jupyter-widgets/base",
       "_model_module_version": "1.2.0",
       "_model_name": "LayoutModel",
       "_view_count": null,
       "_view_module": "@jupyter-widgets/base",
       "_view_module_version": "1.2.0",
       "_view_name": "LayoutView",
       "align_content": null,
       "align_items": null,
       "align_self": null,
       "border": null,
       "bottom": null,
       "display": null,
       "flex": null,
       "flex_flow": null,
       "grid_area": null,
       "grid_auto_columns": null,
       "grid_auto_flow": null,
       "grid_auto_rows": null,
       "grid_column": null,
       "grid_gap": null,
       "grid_row": null,
       "grid_template_areas": null,
       "grid_template_columns": null,
       "grid_template_rows": null,
       "height": null,
       "justify_content": null,
       "justify_items": null,
       "left": null,
       "margin": null,
       "max_height": null,
       "max_width": null,
       "min_height": null,
       "min_width": null,
       "object_fit": null,
       "object_position": null,
       "order": null,
       "overflow": null,
       "overflow_x": null,
       "overflow_y": null,
       "padding": null,
       "right": null,
       "top": null,
       "visibility": null,
       "width": null
      }
     },
     "0833f5c2f3594612affabfe57cc1dc55": {
      "model_module": "@jupyter-widgets/base",
      "model_module_version": "1.2.0",
      "model_name": "LayoutModel",
      "state": {
       "_model_module": "@jupyter-widgets/base",
       "_model_module_version": "1.2.0",
       "_model_name": "LayoutModel",
       "_view_count": null,
       "_view_module": "@jupyter-widgets/base",
       "_view_module_version": "1.2.0",
       "_view_name": "LayoutView",
       "align_content": null,
       "align_items": null,
       "align_self": null,
       "border": null,
       "bottom": null,
       "display": null,
       "flex": null,
       "flex_flow": null,
       "grid_area": null,
       "grid_auto_columns": null,
       "grid_auto_flow": null,
       "grid_auto_rows": null,
       "grid_column": null,
       "grid_gap": null,
       "grid_row": null,
       "grid_template_areas": null,
       "grid_template_columns": null,
       "grid_template_rows": null,
       "height": null,
       "justify_content": null,
       "justify_items": null,
       "left": null,
       "margin": null,
       "max_height": null,
       "max_width": null,
       "min_height": null,
       "min_width": null,
       "object_fit": null,
       "object_position": null,
       "order": null,
       "overflow": null,
       "overflow_x": null,
       "overflow_y": null,
       "padding": null,
       "right": null,
       "top": null,
       "visibility": null,
       "width": null
      }
     },
     "08aadb60a5254ba08d9bece72092ff3d": {
      "model_module": "@jupyter-widgets/controls",
      "model_module_version": "1.5.0",
      "model_name": "HTMLModel",
      "state": {
       "_dom_classes": [],
       "_model_module": "@jupyter-widgets/controls",
       "_model_module_version": "1.5.0",
       "_model_name": "HTMLModel",
       "_view_count": null,
       "_view_module": "@jupyter-widgets/controls",
       "_view_module_version": "1.5.0",
       "_view_name": "HTMLView",
       "description": "",
       "description_tooltip": null,
       "layout": "IPY_MODEL_54f664c3d00c474c98aa169ba5d6b346",
       "placeholder": "​",
       "style": "IPY_MODEL_5480df6bdf6d445198cfd129cca84e40",
       "value": "preprocessor_config.json: 100%"
      }
     },
     "0a9b34bb988445758385aa7c53b2a40f": {
      "model_module": "@jupyter-widgets/controls",
      "model_module_version": "1.5.0",
      "model_name": "DescriptionStyleModel",
      "state": {
       "_model_module": "@jupyter-widgets/controls",
       "_model_module_version": "1.5.0",
       "_model_name": "DescriptionStyleModel",
       "_view_count": null,
       "_view_module": "@jupyter-widgets/base",
       "_view_module_version": "1.2.0",
       "_view_name": "StyleView",
       "description_width": ""
      }
     },
     "0e2a24b327ff46f48e5a30e64eb90572": {
      "model_module": "@jupyter-widgets/controls",
      "model_module_version": "1.5.0",
      "model_name": "ProgressStyleModel",
      "state": {
       "_model_module": "@jupyter-widgets/controls",
       "_model_module_version": "1.5.0",
       "_model_name": "ProgressStyleModel",
       "_view_count": null,
       "_view_module": "@jupyter-widgets/base",
       "_view_module_version": "1.2.0",
       "_view_name": "StyleView",
       "bar_color": null,
       "description_width": ""
      }
     },
     "23e076478c3a43aa86f326799b03133c": {
      "model_module": "@jupyter-widgets/controls",
      "model_module_version": "1.5.0",
      "model_name": "FloatProgressModel",
      "state": {
       "_dom_classes": [],
       "_model_module": "@jupyter-widgets/controls",
       "_model_module_version": "1.5.0",
       "_model_name": "FloatProgressModel",
       "_view_count": null,
       "_view_module": "@jupyter-widgets/controls",
       "_view_module_version": "1.5.0",
       "_view_name": "ProgressView",
       "bar_style": "success",
       "description": "",
       "description_tooltip": null,
       "layout": "IPY_MODEL_66739d78e0e84f27825f7eb2f6ea8b64",
       "max": 160.0,
       "min": 0.0,
       "orientation": "horizontal",
       "style": "IPY_MODEL_0e2a24b327ff46f48e5a30e64eb90572",
       "value": 160.0
      }
     },
     "4fcfce4621224b1fba0d3a2f2fb0af11": {
      "model_module": "@jupyter-widgets/base",
      "model_module_version": "1.2.0",
      "model_name": "LayoutModel",
      "state": {
       "_model_module": "@jupyter-widgets/base",
       "_model_module_version": "1.2.0",
       "_model_name": "LayoutModel",
       "_view_count": null,
       "_view_module": "@jupyter-widgets/base",
       "_view_module_version": "1.2.0",
       "_view_name": "LayoutView",
       "align_content": null,
       "align_items": null,
       "align_self": null,
       "border": null,
       "bottom": null,
       "display": null,
       "flex": null,
       "flex_flow": null,
       "grid_area": null,
       "grid_auto_columns": null,
       "grid_auto_flow": null,
       "grid_auto_rows": null,
       "grid_column": null,
       "grid_gap": null,
       "grid_row": null,
       "grid_template_areas": null,
       "grid_template_columns": null,
       "grid_template_rows": null,
       "height": null,
       "justify_content": null,
       "justify_items": null,
       "left": null,
       "margin": null,
       "max_height": null,
       "max_width": null,
       "min_height": null,
       "min_width": null,
       "object_fit": null,
       "object_position": null,
       "order": null,
       "overflow": null,
       "overflow_x": null,
       "overflow_y": null,
       "padding": null,
       "right": null,
       "top": null,
       "visibility": null,
       "width": null
      }
     },
     "5480df6bdf6d445198cfd129cca84e40": {
      "model_module": "@jupyter-widgets/controls",
      "model_module_version": "1.5.0",
      "model_name": "DescriptionStyleModel",
      "state": {
       "_model_module": "@jupyter-widgets/controls",
       "_model_module_version": "1.5.0",
       "_model_name": "DescriptionStyleModel",
       "_view_count": null,
       "_view_module": "@jupyter-widgets/base",
       "_view_module_version": "1.2.0",
       "_view_name": "StyleView",
       "description_width": ""
      }
     },
     "54f664c3d00c474c98aa169ba5d6b346": {
      "model_module": "@jupyter-widgets/base",
      "model_module_version": "1.2.0",
      "model_name": "LayoutModel",
      "state": {
       "_model_module": "@jupyter-widgets/base",
       "_model_module_version": "1.2.0",
       "_model_name": "LayoutModel",
       "_view_count": null,
       "_view_module": "@jupyter-widgets/base",
       "_view_module_version": "1.2.0",
       "_view_name": "LayoutView",
       "align_content": null,
       "align_items": null,
       "align_self": null,
       "border": null,
       "bottom": null,
       "display": null,
       "flex": null,
       "flex_flow": null,
       "grid_area": null,
       "grid_auto_columns": null,
       "grid_auto_flow": null,
       "grid_auto_rows": null,
       "grid_column": null,
       "grid_gap": null,
       "grid_row": null,
       "grid_template_areas": null,
       "grid_template_columns": null,
       "grid_template_rows": null,
       "height": null,
       "justify_content": null,
       "justify_items": null,
       "left": null,
       "margin": null,
       "max_height": null,
       "max_width": null,
       "min_height": null,
       "min_width": null,
       "object_fit": null,
       "object_position": null,
       "order": null,
       "overflow": null,
       "overflow_x": null,
       "overflow_y": null,
       "padding": null,
       "right": null,
       "top": null,
       "visibility": null,
       "width": null
      }
     },
     "564650398c3f428b933160c3e1ec12f5": {
      "model_module": "@jupyter-widgets/base",
      "model_module_version": "1.2.0",
      "model_name": "LayoutModel",
      "state": {
       "_model_module": "@jupyter-widgets/base",
       "_model_module_version": "1.2.0",
       "_model_name": "LayoutModel",
       "_view_count": null,
       "_view_module": "@jupyter-widgets/base",
       "_view_module_version": "1.2.0",
       "_view_name": "LayoutView",
       "align_content": null,
       "align_items": null,
       "align_self": null,
       "border": null,
       "bottom": null,
       "display": null,
       "flex": null,
       "flex_flow": null,
       "grid_area": null,
       "grid_auto_columns": null,
       "grid_auto_flow": null,
       "grid_auto_rows": null,
       "grid_column": null,
       "grid_gap": null,
       "grid_row": null,
       "grid_template_areas": null,
       "grid_template_columns": null,
       "grid_template_rows": null,
       "height": null,
       "justify_content": null,
       "justify_items": null,
       "left": null,
       "margin": null,
       "max_height": null,
       "max_width": null,
       "min_height": null,
       "min_width": null,
       "object_fit": null,
       "object_position": null,
       "order": null,
       "overflow": null,
       "overflow_x": null,
       "overflow_y": null,
       "padding": null,
       "right": null,
       "top": null,
       "visibility": null,
       "width": null
      }
     },
     "5aaf0c7fb245437996f7aefebd37d07a": {
      "model_module": "@jupyter-widgets/controls",
      "model_module_version": "1.5.0",
      "model_name": "HTMLModel",
      "state": {
       "_dom_classes": [],
       "_model_module": "@jupyter-widgets/controls",
       "_model_module_version": "1.5.0",
       "_model_name": "HTMLModel",
       "_view_count": null,
       "_view_module": "@jupyter-widgets/controls",
       "_view_module_version": "1.5.0",
       "_view_name": "HTMLView",
       "description": "",
       "description_tooltip": null,
       "layout": "IPY_MODEL_cb05d60d6ba643219b1ebc21624225e2",
       "placeholder": "​",
       "style": "IPY_MODEL_0a9b34bb988445758385aa7c53b2a40f",
       "value": "config.json: 100%"
      }
     },
     "5d48b95cfd4a42c9b48dacbf804e7f5c": {
      "model_module": "@jupyter-widgets/controls",
      "model_module_version": "1.5.0",
      "model_name": "ProgressStyleModel",
      "state": {
       "_model_module": "@jupyter-widgets/controls",
       "_model_module_version": "1.5.0",
       "_model_name": "ProgressStyleModel",
       "_view_count": null,
       "_view_module": "@jupyter-widgets/base",
       "_view_module_version": "1.2.0",
       "_view_name": "StyleView",
       "bar_color": null,
       "description_width": ""
      }
     },
     "621f3d4177194b7fababc7969db3cd18": {
      "model_module": "@jupyter-widgets/controls",
      "model_module_version": "1.5.0",
      "model_name": "HTMLModel",
      "state": {
       "_dom_classes": [],
       "_model_module": "@jupyter-widgets/controls",
       "_model_module_version": "1.5.0",
       "_model_name": "HTMLModel",
       "_view_count": null,
       "_view_module": "@jupyter-widgets/controls",
       "_view_module_version": "1.5.0",
       "_view_name": "HTMLView",
       "description": "",
       "description_tooltip": null,
       "layout": "IPY_MODEL_f3352cf749cb4f8fbaf35b6db0a07214",
       "placeholder": "​",
       "style": "IPY_MODEL_68f52a4c8524470fa7ff69e0e002b37a",
       "value": " 160/160 [00:00&lt;00:00, 14.2kB/s]"
      }
     },
     "66739d78e0e84f27825f7eb2f6ea8b64": {
      "model_module": "@jupyter-widgets/base",
      "model_module_version": "1.2.0",
      "model_name": "LayoutModel",
      "state": {
       "_model_module": "@jupyter-widgets/base",
       "_model_module_version": "1.2.0",
       "_model_name": "LayoutModel",
       "_view_count": null,
       "_view_module": "@jupyter-widgets/base",
       "_view_module_version": "1.2.0",
       "_view_name": "LayoutView",
       "align_content": null,
       "align_items": null,
       "align_self": null,
       "border": null,
       "bottom": null,
       "display": null,
       "flex": null,
       "flex_flow": null,
       "grid_area": null,
       "grid_auto_columns": null,
       "grid_auto_flow": null,
       "grid_auto_rows": null,
       "grid_column": null,
       "grid_gap": null,
       "grid_row": null,
       "grid_template_areas": null,
       "grid_template_columns": null,
       "grid_template_rows": null,
       "height": null,
       "justify_content": null,
       "justify_items": null,
       "left": null,
       "margin": null,
       "max_height": null,
       "max_width": null,
       "min_height": null,
       "min_width": null,
       "object_fit": null,
       "object_position": null,
       "order": null,
       "overflow": null,
       "overflow_x": null,
       "overflow_y": null,
       "padding": null,
       "right": null,
       "top": null,
       "visibility": null,
       "width": null
      }
     },
     "68f52a4c8524470fa7ff69e0e002b37a": {
      "model_module": "@jupyter-widgets/controls",
      "model_module_version": "1.5.0",
      "model_name": "DescriptionStyleModel",
      "state": {
       "_model_module": "@jupyter-widgets/controls",
       "_model_module_version": "1.5.0",
       "_model_name": "DescriptionStyleModel",
       "_view_count": null,
       "_view_module": "@jupyter-widgets/base",
       "_view_module_version": "1.2.0",
       "_view_name": "StyleView",
       "description_width": ""
      }
     },
     "6e17663177a84d8aa6d098bd14d8e0f3": {
      "model_module": "@jupyter-widgets/controls",
      "model_module_version": "1.5.0",
      "model_name": "DescriptionStyleModel",
      "state": {
       "_model_module": "@jupyter-widgets/controls",
       "_model_module_version": "1.5.0",
       "_model_name": "DescriptionStyleModel",
       "_view_count": null,
       "_view_module": "@jupyter-widgets/base",
       "_view_module_version": "1.2.0",
       "_view_name": "StyleView",
       "description_width": ""
      }
     },
     "7f7ad97dc4854833840c38d27c5ab18c": {
      "model_module": "@jupyter-widgets/base",
      "model_module_version": "1.2.0",
      "model_name": "LayoutModel",
      "state": {
       "_model_module": "@jupyter-widgets/base",
       "_model_module_version": "1.2.0",
       "_model_name": "LayoutModel",
       "_view_count": null,
       "_view_module": "@jupyter-widgets/base",
       "_view_module_version": "1.2.0",
       "_view_name": "LayoutView",
       "align_content": null,
       "align_items": null,
       "align_self": null,
       "border": null,
       "bottom": null,
       "display": null,
       "flex": null,
       "flex_flow": null,
       "grid_area": null,
       "grid_auto_columns": null,
       "grid_auto_flow": null,
       "grid_auto_rows": null,
       "grid_column": null,
       "grid_gap": null,
       "grid_row": null,
       "grid_template_areas": null,
       "grid_template_columns": null,
       "grid_template_rows": null,
       "height": null,
       "justify_content": null,
       "justify_items": null,
       "left": null,
       "margin": null,
       "max_height": null,
       "max_width": null,
       "min_height": null,
       "min_width": null,
       "object_fit": null,
       "object_position": null,
       "order": null,
       "overflow": null,
       "overflow_x": null,
       "overflow_y": null,
       "padding": null,
       "right": null,
       "top": null,
       "visibility": null,
       "width": null
      }
     },
     "7fc779eff4f94b5baf1f704d58ee7c6a": {
      "model_module": "@jupyter-widgets/controls",
      "model_module_version": "1.5.0",
      "model_name": "FloatProgressModel",
      "state": {
       "_dom_classes": [],
       "_model_module": "@jupyter-widgets/controls",
       "_model_module_version": "1.5.0",
       "_model_name": "FloatProgressModel",
       "_view_count": null,
       "_view_module": "@jupyter-widgets/controls",
       "_view_module_version": "1.5.0",
       "_view_name": "ProgressView",
       "bar_style": "success",
       "description": "",
       "description_tooltip": null,
       "layout": "IPY_MODEL_f296d83629e54dada12d4f6cebd2330e",
       "max": 502.0,
       "min": 0.0,
       "orientation": "horizontal",
       "style": "IPY_MODEL_90592c9e12544eee9e6906344a7da9ff",
       "value": 502.0
      }
     },
     "82bc33d6fff7494f8a24e6f11ebb822f": {
      "model_module": "@jupyter-widgets/controls",
      "model_module_version": "1.5.0",
      "model_name": "DescriptionStyleModel",
      "state": {
       "_model_module": "@jupyter-widgets/controls",
       "_model_module_version": "1.5.0",
       "_model_name": "DescriptionStyleModel",
       "_view_count": null,
       "_view_module": "@jupyter-widgets/base",
       "_view_module_version": "1.2.0",
       "_view_name": "StyleView",
       "description_width": ""
      }
     },
     "841707de57eb4f55a30b242d76ca6d37": {
      "model_module": "@jupyter-widgets/controls",
      "model_module_version": "1.5.0",
      "model_name": "HBoxModel",
      "state": {
       "_dom_classes": [],
       "_model_module": "@jupyter-widgets/controls",
       "_model_module_version": "1.5.0",
       "_model_name": "HBoxModel",
       "_view_count": null,
       "_view_module": "@jupyter-widgets/controls",
       "_view_module_version": "1.5.0",
       "_view_name": "HBoxView",
       "box_style": "",
       "children": [
        "IPY_MODEL_08aadb60a5254ba08d9bece72092ff3d",
        "IPY_MODEL_23e076478c3a43aa86f326799b03133c",
        "IPY_MODEL_621f3d4177194b7fababc7969db3cd18"
       ],
       "layout": "IPY_MODEL_04df941113a94b8fa3608261f9aadaba"
      }
     },
     "8ab1b3795a144a4d9363af9c8ae89b07": {
      "model_module": "@jupyter-widgets/controls",
      "model_module_version": "1.5.0",
      "model_name": "FloatProgressModel",
      "state": {
       "_dom_classes": [],
       "_model_module": "@jupyter-widgets/controls",
       "_model_module_version": "1.5.0",
       "_model_name": "FloatProgressModel",
       "_view_count": null,
       "_view_module": "@jupyter-widgets/controls",
       "_view_module_version": "1.5.0",
       "_view_name": "ProgressView",
       "bar_style": "success",
       "description": "",
       "description_tooltip": null,
       "layout": "IPY_MODEL_4fcfce4621224b1fba0d3a2f2fb0af11",
       "max": 345636463.0,
       "min": 0.0,
       "orientation": "horizontal",
       "style": "IPY_MODEL_5d48b95cfd4a42c9b48dacbf804e7f5c",
       "value": 345636463.0
      }
     },
     "90592c9e12544eee9e6906344a7da9ff": {
      "model_module": "@jupyter-widgets/controls",
      "model_module_version": "1.5.0",
      "model_name": "ProgressStyleModel",
      "state": {
       "_model_module": "@jupyter-widgets/controls",
       "_model_module_version": "1.5.0",
       "_model_name": "ProgressStyleModel",
       "_view_count": null,
       "_view_module": "@jupyter-widgets/base",
       "_view_module_version": "1.2.0",
       "_view_name": "StyleView",
       "bar_color": null,
       "description_width": ""
      }
     },
     "956854b1f0954f5f85cd93ef2a7df044": {
      "model_module": "@jupyter-widgets/controls",
      "model_module_version": "1.5.0",
      "model_name": "HTMLModel",
      "state": {
       "_dom_classes": [],
       "_model_module": "@jupyter-widgets/controls",
       "_model_module_version": "1.5.0",
       "_model_name": "HTMLModel",
       "_view_count": null,
       "_view_module": "@jupyter-widgets/controls",
       "_view_module_version": "1.5.0",
       "_view_name": "HTMLView",
       "description": "",
       "description_tooltip": null,
       "layout": "IPY_MODEL_d4b2d434fbec4e4d864f38893770825c",
       "placeholder": "​",
       "style": "IPY_MODEL_d6f0dc0c7add48cd90c10eb43a617421",
       "value": " 346M/346M [00:01&lt;00:00, 216MB/s]"
      }
     },
     "a77c18a16abd46c1b7e16587b4f9dd07": {
      "model_module": "@jupyter-widgets/controls",
      "model_module_version": "1.5.0",
      "model_name": "HTMLModel",
      "state": {
       "_dom_classes": [],
       "_model_module": "@jupyter-widgets/controls",
       "_model_module_version": "1.5.0",
       "_model_name": "HTMLModel",
       "_view_count": null,
       "_view_module": "@jupyter-widgets/controls",
       "_view_module_version": "1.5.0",
       "_view_name": "HTMLView",
       "description": "",
       "description_tooltip": null,
       "layout": "IPY_MODEL_0833f5c2f3594612affabfe57cc1dc55",
       "placeholder": "​",
       "style": "IPY_MODEL_6e17663177a84d8aa6d098bd14d8e0f3",
       "value": "pytorch_model.bin: 100%"
      }
     },
     "b6c221c3ff96434cbb041c909b6e06b7": {
      "model_module": "@jupyter-widgets/controls",
      "model_module_version": "1.5.0",
      "model_name": "HBoxModel",
      "state": {
       "_dom_classes": [],
       "_model_module": "@jupyter-widgets/controls",
       "_model_module_version": "1.5.0",
       "_model_name": "HBoxModel",
       "_view_count": null,
       "_view_module": "@jupyter-widgets/controls",
       "_view_module_version": "1.5.0",
       "_view_name": "HBoxView",
       "box_style": "",
       "children": [
        "IPY_MODEL_5aaf0c7fb245437996f7aefebd37d07a",
        "IPY_MODEL_7fc779eff4f94b5baf1f704d58ee7c6a",
        "IPY_MODEL_0423fd5b15eb4015bf5fea964b2b5398"
       ],
       "layout": "IPY_MODEL_564650398c3f428b933160c3e1ec12f5"
      }
     },
     "b9e97c9020304ec7a4dbb71dd9648278": {
      "model_module": "@jupyter-widgets/controls",
      "model_module_version": "1.5.0",
      "model_name": "HBoxModel",
      "state": {
       "_dom_classes": [],
       "_model_module": "@jupyter-widgets/controls",
       "_model_module_version": "1.5.0",
       "_model_name": "HBoxModel",
       "_view_count": null,
       "_view_module": "@jupyter-widgets/controls",
       "_view_module_version": "1.5.0",
       "_view_name": "HBoxView",
       "box_style": "",
       "children": [
        "IPY_MODEL_a77c18a16abd46c1b7e16587b4f9dd07",
        "IPY_MODEL_8ab1b3795a144a4d9363af9c8ae89b07",
        "IPY_MODEL_956854b1f0954f5f85cd93ef2a7df044"
       ],
       "layout": "IPY_MODEL_7f7ad97dc4854833840c38d27c5ab18c"
      }
     },
     "cb05d60d6ba643219b1ebc21624225e2": {
      "model_module": "@jupyter-widgets/base",
      "model_module_version": "1.2.0",
      "model_name": "LayoutModel",
      "state": {
       "_model_module": "@jupyter-widgets/base",
       "_model_module_version": "1.2.0",
       "_model_name": "LayoutModel",
       "_view_count": null,
       "_view_module": "@jupyter-widgets/base",
       "_view_module_version": "1.2.0",
       "_view_name": "LayoutView",
       "align_content": null,
       "align_items": null,
       "align_self": null,
       "border": null,
       "bottom": null,
       "display": null,
       "flex": null,
       "flex_flow": null,
       "grid_area": null,
       "grid_auto_columns": null,
       "grid_auto_flow": null,
       "grid_auto_rows": null,
       "grid_column": null,
       "grid_gap": null,
       "grid_row": null,
       "grid_template_areas": null,
       "grid_template_columns": null,
       "grid_template_rows": null,
       "height": null,
       "justify_content": null,
       "justify_items": null,
       "left": null,
       "margin": null,
       "max_height": null,
       "max_width": null,
       "min_height": null,
       "min_width": null,
       "object_fit": null,
       "object_position": null,
       "order": null,
       "overflow": null,
       "overflow_x": null,
       "overflow_y": null,
       "padding": null,
       "right": null,
       "top": null,
       "visibility": null,
       "width": null
      }
     },
     "d4b2d434fbec4e4d864f38893770825c": {
      "model_module": "@jupyter-widgets/base",
      "model_module_version": "1.2.0",
      "model_name": "LayoutModel",
      "state": {
       "_model_module": "@jupyter-widgets/base",
       "_model_module_version": "1.2.0",
       "_model_name": "LayoutModel",
       "_view_count": null,
       "_view_module": "@jupyter-widgets/base",
       "_view_module_version": "1.2.0",
       "_view_name": "LayoutView",
       "align_content": null,
       "align_items": null,
       "align_self": null,
       "border": null,
       "bottom": null,
       "display": null,
       "flex": null,
       "flex_flow": null,
       "grid_area": null,
       "grid_auto_columns": null,
       "grid_auto_flow": null,
       "grid_auto_rows": null,
       "grid_column": null,
       "grid_gap": null,
       "grid_row": null,
       "grid_template_areas": null,
       "grid_template_columns": null,
       "grid_template_rows": null,
       "height": null,
       "justify_content": null,
       "justify_items": null,
       "left": null,
       "margin": null,
       "max_height": null,
       "max_width": null,
       "min_height": null,
       "min_width": null,
       "object_fit": null,
       "object_position": null,
       "order": null,
       "overflow": null,
       "overflow_x": null,
       "overflow_y": null,
       "padding": null,
       "right": null,
       "top": null,
       "visibility": null,
       "width": null
      }
     },
     "d6f0dc0c7add48cd90c10eb43a617421": {
      "model_module": "@jupyter-widgets/controls",
      "model_module_version": "1.5.0",
      "model_name": "DescriptionStyleModel",
      "state": {
       "_model_module": "@jupyter-widgets/controls",
       "_model_module_version": "1.5.0",
       "_model_name": "DescriptionStyleModel",
       "_view_count": null,
       "_view_module": "@jupyter-widgets/base",
       "_view_module_version": "1.2.0",
       "_view_name": "StyleView",
       "description_width": ""
      }
     },
     "ed5645882a4c432fb52b3b73fa58ba82": {
      "model_module": "@jupyter-widgets/base",
      "model_module_version": "1.2.0",
      "model_name": "LayoutModel",
      "state": {
       "_model_module": "@jupyter-widgets/base",
       "_model_module_version": "1.2.0",
       "_model_name": "LayoutModel",
       "_view_count": null,
       "_view_module": "@jupyter-widgets/base",
       "_view_module_version": "1.2.0",
       "_view_name": "LayoutView",
       "align_content": null,
       "align_items": null,
       "align_self": null,
       "border": null,
       "bottom": null,
       "display": null,
       "flex": null,
       "flex_flow": null,
       "grid_area": null,
       "grid_auto_columns": null,
       "grid_auto_flow": null,
       "grid_auto_rows": null,
       "grid_column": null,
       "grid_gap": null,
       "grid_row": null,
       "grid_template_areas": null,
       "grid_template_columns": null,
       "grid_template_rows": null,
       "height": null,
       "justify_content": null,
       "justify_items": null,
       "left": null,
       "margin": null,
       "max_height": null,
       "max_width": null,
       "min_height": null,
       "min_width": null,
       "object_fit": null,
       "object_position": null,
       "order": null,
       "overflow": null,
       "overflow_x": null,
       "overflow_y": null,
       "padding": null,
       "right": null,
       "top": null,
       "visibility": null,
       "width": null
      }
     },
     "f296d83629e54dada12d4f6cebd2330e": {
      "model_module": "@jupyter-widgets/base",
      "model_module_version": "1.2.0",
      "model_name": "LayoutModel",
      "state": {
       "_model_module": "@jupyter-widgets/base",
       "_model_module_version": "1.2.0",
       "_model_name": "LayoutModel",
       "_view_count": null,
       "_view_module": "@jupyter-widgets/base",
       "_view_module_version": "1.2.0",
       "_view_name": "LayoutView",
       "align_content": null,
       "align_items": null,
       "align_self": null,
       "border": null,
       "bottom": null,
       "display": null,
       "flex": null,
       "flex_flow": null,
       "grid_area": null,
       "grid_auto_columns": null,
       "grid_auto_flow": null,
       "grid_auto_rows": null,
       "grid_column": null,
       "grid_gap": null,
       "grid_row": null,
       "grid_template_areas": null,
       "grid_template_columns": null,
       "grid_template_rows": null,
       "height": null,
       "justify_content": null,
       "justify_items": null,
       "left": null,
       "margin": null,
       "max_height": null,
       "max_width": null,
       "min_height": null,
       "min_width": null,
       "object_fit": null,
       "object_position": null,
       "order": null,
       "overflow": null,
       "overflow_x": null,
       "overflow_y": null,
       "padding": null,
       "right": null,
       "top": null,
       "visibility": null,
       "width": null
      }
     },
     "f3352cf749cb4f8fbaf35b6db0a07214": {
      "model_module": "@jupyter-widgets/base",
      "model_module_version": "1.2.0",
      "model_name": "LayoutModel",
      "state": {
       "_model_module": "@jupyter-widgets/base",
       "_model_module_version": "1.2.0",
       "_model_name": "LayoutModel",
       "_view_count": null,
       "_view_module": "@jupyter-widgets/base",
       "_view_module_version": "1.2.0",
       "_view_name": "LayoutView",
       "align_content": null,
       "align_items": null,
       "align_self": null,
       "border": null,
       "bottom": null,
       "display": null,
       "flex": null,
       "flex_flow": null,
       "grid_area": null,
       "grid_auto_columns": null,
       "grid_auto_flow": null,
       "grid_auto_rows": null,
       "grid_column": null,
       "grid_gap": null,
       "grid_row": null,
       "grid_template_areas": null,
       "grid_template_columns": null,
       "grid_template_rows": null,
       "height": null,
       "justify_content": null,
       "justify_items": null,
       "left": null,
       "margin": null,
       "max_height": null,
       "max_width": null,
       "min_height": null,
       "min_width": null,
       "object_fit": null,
       "object_position": null,
       "order": null,
       "overflow": null,
       "overflow_x": null,
       "overflow_y": null,
       "padding": null,
       "right": null,
       "top": null,
       "visibility": null,
       "width": null
      }
     }
    },
    "version_major": 2,
    "version_minor": 0
   }
  }
 },
 "nbformat": 4,
 "nbformat_minor": 5
}
