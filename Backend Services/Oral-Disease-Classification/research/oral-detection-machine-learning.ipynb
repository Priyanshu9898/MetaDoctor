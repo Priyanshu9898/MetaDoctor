{
 "cells": [
  {
   "cell_type": "code",
   "execution_count": 1,
   "id": "39a8de56",
   "metadata": {
    "_cell_guid": "b1076dfc-b9ad-4769-8c92-a6c4dae69d19",
    "_uuid": "8f2839f25d086af736a60e9eeb907d3b93b6e0e5",
    "execution": {
     "iopub.execute_input": "2024-01-07T13:52:17.795692Z",
     "iopub.status.busy": "2024-01-07T13:52:17.795172Z",
     "iopub.status.idle": "2024-01-07T13:52:36.903404Z",
     "shell.execute_reply": "2024-01-07T13:52:36.902556Z"
    },
    "papermill": {
     "duration": 19.120452,
     "end_time": "2024-01-07T13:52:36.905865",
     "exception": false,
     "start_time": "2024-01-07T13:52:17.785413",
     "status": "completed"
    },
    "tags": []
   },
   "outputs": [],
   "source": [
    "# This Python 3 environment comes with many helpful analytics libraries installed\n",
    "# It is defined by the kaggle/python Docker image: https://github.com/kaggle/docker-python\n",
    "# For example, here's several helpful packages to load\n",
    "\n",
    "import numpy as np # linear algebra\n",
    "import pandas as pd # data processing, CSV file I/O (e.g. pd.read_csv)\n",
    "\n",
    "# Input data files are available in the read-only \"../input/\" directory\n",
    "# For example, running this (by clicking run or pressing Shift+Enter) will list all files under the input directory\n",
    "\n",
    "import os\n",
    "for dirname, _, filenames in os.walk('/kaggle/input'):\n",
    "    for filename in filenames:\n",
    "#         print(os.path.join(dirname, filename))\n",
    "        pass\n",
    "\n",
    "# You can write up to 20GB to the current directory (/kaggle/working/) that gets preserved as output when you create a version using \"Save & Run All\" \n",
    "# You can also write temporary files to /kaggle/temp/, but they won't be saved outside of the current session"
   ]
  },
  {
   "cell_type": "code",
   "execution_count": 2,
   "id": "f138ecd9",
   "metadata": {
    "execution": {
     "iopub.execute_input": "2024-01-07T13:52:36.922554Z",
     "iopub.status.busy": "2024-01-07T13:52:36.921976Z",
     "iopub.status.idle": "2024-01-07T13:52:49.174109Z",
     "shell.execute_reply": "2024-01-07T13:52:49.172404Z"
    },
    "papermill": {
     "duration": 12.263105,
     "end_time": "2024-01-07T13:52:49.176676",
     "exception": false,
     "start_time": "2024-01-07T13:52:36.913571",
     "status": "completed"
    },
    "tags": []
   },
   "outputs": [
    {
     "name": "stdout",
     "output_type": "stream",
     "text": [
      "Requirement already satisfied: joblib in /opt/conda/lib/python3.10/site-packages (1.3.2)\r\n"
     ]
    }
   ],
   "source": [
    "!pip install joblib"
   ]
  },
  {
   "cell_type": "code",
   "execution_count": 3,
   "id": "6e5da00c",
   "metadata": {
    "execution": {
     "iopub.execute_input": "2024-01-07T13:52:49.194173Z",
     "iopub.status.busy": "2024-01-07T13:52:49.193753Z",
     "iopub.status.idle": "2024-01-07T13:52:49.200155Z",
     "shell.execute_reply": "2024-01-07T13:52:49.197974Z"
    },
    "papermill": {
     "duration": 0.018706,
     "end_time": "2024-01-07T13:52:49.203047",
     "exception": false,
     "start_time": "2024-01-07T13:52:49.184341",
     "status": "completed"
    },
    "tags": []
   },
   "outputs": [],
   "source": [
    "# input folder\n",
    "from pathlib import Path\n",
    "Path('/kaggle/working/oral-diseases/').mkdir(parents=True, exist_ok=True)"
   ]
  },
  {
   "cell_type": "code",
   "execution_count": 4,
   "id": "e69d3e12",
   "metadata": {
    "execution": {
     "iopub.execute_input": "2024-01-07T13:52:49.220114Z",
     "iopub.status.busy": "2024-01-07T13:52:49.219654Z",
     "iopub.status.idle": "2024-01-07T13:53:06.507572Z",
     "shell.execute_reply": "2024-01-07T13:53:06.506754Z"
    },
    "papermill": {
     "duration": 17.299812,
     "end_time": "2024-01-07T13:53:06.510474",
     "exception": false,
     "start_time": "2024-01-07T13:52:49.210662",
     "status": "completed"
    },
    "tags": []
   },
   "outputs": [
    {
     "data": {
      "text/plain": [
       "PosixPath('/kaggle/working/oral-diseases/caries')"
      ]
     },
     "execution_count": 4,
     "metadata": {},
     "output_type": "execute_result"
    }
   ],
   "source": [
    "import shutil\n",
    "import os\n",
    "\n",
    "# Caries.\n",
    "# The source path\n",
    "caries_file_path = Path('/kaggle/input/oral-diseases/Data caries/Data caries/caries augmented data set/preview')\n",
    "\n",
    "# The destination path\n",
    "caries_new_directory = Path('/kaggle/working/oral-diseases/caries')\n",
    "\n",
    "# Copying data from input folder to working folder\n",
    "shutil.copytree(caries_file_path, caries_new_directory)"
   ]
  },
  {
   "cell_type": "code",
   "execution_count": 5,
   "id": "ae691f05",
   "metadata": {
    "execution": {
     "iopub.execute_input": "2024-01-07T13:53:06.532010Z",
     "iopub.status.busy": "2024-01-07T13:53:06.530061Z",
     "iopub.status.idle": "2024-01-07T13:54:13.295084Z",
     "shell.execute_reply": "2024-01-07T13:54:13.293848Z"
    },
    "papermill": {
     "duration": 66.785219,
     "end_time": "2024-01-07T13:54:13.305106",
     "exception": false,
     "start_time": "2024-01-07T13:53:06.519887",
     "status": "completed"
    },
    "tags": []
   },
   "outputs": [
    {
     "data": {
      "text/plain": [
       "PosixPath('/kaggle/working/oral-diseases/hypodontia')"
      ]
     },
     "execution_count": 5,
     "metadata": {},
     "output_type": "execute_result"
    }
   ],
   "source": [
    "# Calculus\n",
    "# The source path\n",
    "calculus_file_path = Path('/kaggle/input/oral-diseases/Calculus/Calculus')\n",
    "# The destination path\n",
    "calculus_new_directory = Path('/kaggle/working/oral-diseases/calculus')\n",
    "# Copying data from input folder to working folder\n",
    "shutil.copytree(calculus_file_path, calculus_new_directory)\n",
    "\n",
    "#Gingivitis\n",
    "# The source path\n",
    "gingivitis_file_path = Path('/kaggle/input/oral-diseases/Gingivitis/Gingivitis')\n",
    "# The destination path\n",
    "gingivitis_new_directory = Path('/kaggle/working/oral-diseases/gingivitis')\n",
    "# Copying data from input folder to working folder\n",
    "shutil.copytree(gingivitis_file_path, gingivitis_new_directory)\n",
    "\n",
    "#Ulcers\n",
    "# The source path\n",
    "ulcer_file_path = Path('/kaggle/input/oral-diseases/Mouth Ulcer/Mouth Ulcer/Mouth_Ulcer_augmented_DataSet/preview')\n",
    "# The destination path\n",
    "ulcer_new_directory = Path('/kaggle/working/oral-diseases/ulcers')\n",
    "# Copying data from input folder to working folder\n",
    "shutil.copytree(ulcer_file_path, ulcer_new_directory)\n",
    "\n",
    "#Tooth Discoloration\n",
    "# The source path\n",
    "toothDiscoloration_file_path = Path('/kaggle/input/oral-diseases/Tooth Discoloration/Tooth Discoloration /Tooth_discoloration_augmented_dataser/preview')\n",
    "# The destination path\n",
    "toothDiscoloration_new_directory = Path('/kaggle/working/oral-diseases/toothDiscoloration')\n",
    "# Copying data from input folder to working folder\n",
    "shutil.copytree(toothDiscoloration_file_path, toothDiscoloration_new_directory)\n",
    "\n",
    "#hypodontia\n",
    "# The source path\n",
    "hypodontia_file_path = Path('/kaggle/input/oral-diseases/hypodontia/hypodontia')\n",
    "# The destination path\n",
    "hypodontia_new_directory = Path('/kaggle/working/oral-diseases/hypodontia')\n",
    "# Copying data from input folder to working folder\n",
    "shutil.copytree(hypodontia_file_path, hypodontia_new_directory)"
   ]
  },
  {
   "cell_type": "code",
   "execution_count": 6,
   "id": "1bb0e210",
   "metadata": {
    "execution": {
     "iopub.execute_input": "2024-01-07T13:54:13.321533Z",
     "iopub.status.busy": "2024-01-07T13:54:13.321162Z",
     "iopub.status.idle": "2024-01-07T13:54:13.332267Z",
     "shell.execute_reply": "2024-01-07T13:54:13.331206Z"
    },
    "papermill": {
     "duration": 0.021613,
     "end_time": "2024-01-07T13:54:13.334171",
     "exception": false,
     "start_time": "2024-01-07T13:54:13.312558",
     "status": "completed"
    },
    "tags": []
   },
   "outputs": [
    {
     "data": {
      "text/plain": [
       "['hypodontia',\n",
       " 'gingivitis',\n",
       " 'caries',\n",
       " 'toothDiscoloration',\n",
       " 'calculus',\n",
       " 'ulcers']"
      ]
     },
     "execution_count": 6,
     "metadata": {},
     "output_type": "execute_result"
    }
   ],
   "source": [
    "# The different classes we have from the folders\n",
    "import os\n",
    "build_dir = \"/kaggle/working/oral-diseases\"\n",
    "caries_dir = os.path.join(build_dir,'caries')\n",
    "gingivitis_dir = os.path.join(build_dir,'gingivitis')\n",
    "toothDiscoloration_dir = os.path.join(build_dir,'toothDiscoloration')\n",
    "ulcers_dir = os.path.join(build_dir,'ulcers')\n",
    "hypodontia_dir = os.path.join(build_dir,'hypodontia')\n",
    "calculus_dir = os.path.join(build_dir,'calculus')\n",
    "os.listdir(build_dir)"
   ]
  },
  {
   "cell_type": "code",
   "execution_count": 7,
   "id": "a1afd31f",
   "metadata": {
    "execution": {
     "iopub.execute_input": "2024-01-07T13:54:13.351207Z",
     "iopub.status.busy": "2024-01-07T13:54:13.350217Z",
     "iopub.status.idle": "2024-01-07T13:54:13.364104Z",
     "shell.execute_reply": "2024-01-07T13:54:13.362701Z"
    },
    "papermill": {
     "duration": 0.025002,
     "end_time": "2024-01-07T13:54:13.366699",
     "exception": false,
     "start_time": "2024-01-07T13:54:13.341697",
     "status": "completed"
    },
    "tags": []
   },
   "outputs": [],
   "source": [
    "# Showing the total number of images from each class/folder\n",
    "import pandas as pd\n",
    "\n",
    "data = pd.DataFrame(data=[len(os.listdir(caries_dir)), len(os.listdir(gingivitis_dir)),\n",
    "                   len(os.listdir(toothDiscoloration_dir)), len(os.listdir(ulcers_dir)),\n",
    "                   len(os.listdir(hypodontia_dir)),\n",
    "                   len(os.listdir(calculus_dir))], index=['Caries', 'Gingivitis',\n",
    "                                                                    'toothDiscoloration', 'ulcers',\n",
    "                                                                    'hypodontia', 'calculus'],\n",
    "              columns=['Total Images'])"
   ]
  },
  {
   "cell_type": "code",
   "execution_count": 8,
   "id": "0e62bd95",
   "metadata": {
    "execution": {
     "iopub.execute_input": "2024-01-07T13:54:13.384909Z",
     "iopub.status.busy": "2024-01-07T13:54:13.383767Z",
     "iopub.status.idle": "2024-01-07T13:54:13.397658Z",
     "shell.execute_reply": "2024-01-07T13:54:13.395869Z"
    },
    "papermill": {
     "duration": 0.026173,
     "end_time": "2024-01-07T13:54:13.400660",
     "exception": false,
     "start_time": "2024-01-07T13:54:13.374487",
     "status": "completed"
    },
    "tags": []
   },
   "outputs": [],
   "source": [
    "data.to_csv('data_distribution.csv')"
   ]
  },
  {
   "cell_type": "code",
   "execution_count": 9,
   "id": "f86b9274",
   "metadata": {
    "execution": {
     "iopub.execute_input": "2024-01-07T13:54:13.417231Z",
     "iopub.status.busy": "2024-01-07T13:54:13.416923Z",
     "iopub.status.idle": "2024-01-07T13:54:13.437538Z",
     "shell.execute_reply": "2024-01-07T13:54:13.436711Z"
    },
    "papermill": {
     "duration": 0.031248,
     "end_time": "2024-01-07T13:54:13.439528",
     "exception": false,
     "start_time": "2024-01-07T13:54:13.408280",
     "status": "completed"
    },
    "tags": []
   },
   "outputs": [
    {
     "data": {
      "text/html": [
       "<div>\n",
       "<style scoped>\n",
       "    .dataframe tbody tr th:only-of-type {\n",
       "        vertical-align: middle;\n",
       "    }\n",
       "\n",
       "    .dataframe tbody tr th {\n",
       "        vertical-align: top;\n",
       "    }\n",
       "\n",
       "    .dataframe thead th {\n",
       "        text-align: right;\n",
       "    }\n",
       "</style>\n",
       "<table border=\"1\" class=\"dataframe\">\n",
       "  <thead>\n",
       "    <tr style=\"text-align: right;\">\n",
       "      <th></th>\n",
       "      <th>Total Images</th>\n",
       "    </tr>\n",
       "  </thead>\n",
       "  <tbody>\n",
       "    <tr>\n",
       "      <th>Caries</th>\n",
       "      <td>2382</td>\n",
       "    </tr>\n",
       "    <tr>\n",
       "      <th>Gingivitis</th>\n",
       "      <td>2349</td>\n",
       "    </tr>\n",
       "    <tr>\n",
       "      <th>toothDiscoloration</th>\n",
       "      <td>1834</td>\n",
       "    </tr>\n",
       "    <tr>\n",
       "      <th>ulcers</th>\n",
       "      <td>2541</td>\n",
       "    </tr>\n",
       "    <tr>\n",
       "      <th>hypodontia</th>\n",
       "      <td>1251</td>\n",
       "    </tr>\n",
       "    <tr>\n",
       "      <th>calculus</th>\n",
       "      <td>1296</td>\n",
       "    </tr>\n",
       "  </tbody>\n",
       "</table>\n",
       "</div>"
      ],
      "text/plain": [
       "                    Total Images\n",
       "Caries                      2382\n",
       "Gingivitis                  2349\n",
       "toothDiscoloration          1834\n",
       "ulcers                      2541\n",
       "hypodontia                  1251\n",
       "calculus                    1296"
      ]
     },
     "execution_count": 9,
     "metadata": {},
     "output_type": "execute_result"
    }
   ],
   "source": [
    "data"
   ]
  },
  {
   "cell_type": "code",
   "execution_count": 10,
   "id": "974e02a5",
   "metadata": {
    "execution": {
     "iopub.execute_input": "2024-01-07T13:54:13.456941Z",
     "iopub.status.busy": "2024-01-07T13:54:13.456457Z",
     "iopub.status.idle": "2024-01-07T13:54:13.461714Z",
     "shell.execute_reply": "2024-01-07T13:54:13.460453Z"
    },
    "papermill": {
     "duration": 0.017488,
     "end_time": "2024-01-07T13:54:13.464703",
     "exception": false,
     "start_time": "2024-01-07T13:54:13.447215",
     "status": "completed"
    },
    "tags": []
   },
   "outputs": [],
   "source": [
    "# Sample of caries\n",
    "from PIL import Image\n",
    "import matplotlib.pyplot as plt"
   ]
  },
  {
   "cell_type": "code",
   "execution_count": 11,
   "id": "0151ca40",
   "metadata": {
    "execution": {
     "iopub.execute_input": "2024-01-07T13:54:13.481886Z",
     "iopub.status.busy": "2024-01-07T13:54:13.481495Z",
     "iopub.status.idle": "2024-01-07T13:54:13.767431Z",
     "shell.execute_reply": "2024-01-07T13:54:13.766130Z"
    },
    "papermill": {
     "duration": 0.296669,
     "end_time": "2024-01-07T13:54:13.769731",
     "exception": false,
     "start_time": "2024-01-07T13:54:13.473062",
     "status": "completed"
    },
    "tags": []
   },
   "outputs": [
    {
     "data": {
      "text/plain": [
       "<matplotlib.image.AxesImage at 0x7b403aae7b50>"
      ]
     },
     "execution_count": 11,
     "metadata": {},
     "output_type": "execute_result"
    },
    {
     "data": {
      "image/png": "[encoded data removed]",
      "text/plain": [
       "<Figure size 640x480 with 1 Axes>"
      ]
     },
     "metadata": {},
     "output_type": "display_data"
    }
   ],
   "source": [
    "# Sample of hypodontia\n",
    "hypodontiaimg=Image.open(\"/kaggle/working/oral-diseases/hypodontia/(25).JPG\")\n",
    "plt.imshow(hypodontiaimg)"
   ]
  },
  {
   "cell_type": "code",
   "execution_count": 12,
   "id": "17db0115",
   "metadata": {
    "execution": {
     "iopub.execute_input": "2024-01-07T13:54:13.789162Z",
     "iopub.status.busy": "2024-01-07T13:54:13.788812Z",
     "iopub.status.idle": "2024-01-07T13:54:17.106758Z",
     "shell.execute_reply": "2024-01-07T13:54:17.104987Z"
    },
    "papermill": {
     "duration": 3.331129,
     "end_time": "2024-01-07T13:54:17.109735",
     "exception": false,
     "start_time": "2024-01-07T13:54:13.778606",
     "status": "completed"
    },
    "tags": []
   },
   "outputs": [],
   "source": [
    "import os\n",
    "import cv2\n",
    "import numpy as np\n",
    "import pandas as pd\n",
    "import seaborn as sns\n",
    "import matplotlib.pyplot as plt\n",
    "from skimage.feature import hog\n",
    "from sklearn.model_selection import train_test_split\n",
    "from sklearn.metrics import accuracy_score, classification_report, confusion_matrix\n",
    "from sklearn.ensemble import RandomForestClassifier, GradientBoostingClassifier, AdaBoostClassifier, ExtraTreesClassifier\n",
    "from sklearn.svm import SVC\n",
    "from sklearn.neighbors import KNeighborsClassifier\n",
    "from sklearn.naive_bayes import GaussianNB\n",
    "from sklearn.tree import DecisionTreeClassifier\n",
    "from sklearn.linear_model import LogisticRegression\n",
    "from sklearn.preprocessing import StandardScaler\n",
    "from sklearn.pipeline import make_pipeline\n",
    "from xgboost import XGBClassifier\n",
    "import time\n",
    "import joblib"
   ]
  },
  {
   "cell_type": "code",
   "execution_count": 13,
   "id": "9ea06513",
   "metadata": {
    "execution": {
     "iopub.execute_input": "2024-01-07T13:54:17.128722Z",
     "iopub.status.busy": "2024-01-07T13:54:17.128386Z",
     "iopub.status.idle": "2024-01-07T13:54:17.133363Z",
     "shell.execute_reply": "2024-01-07T13:54:17.132300Z"
    },
    "papermill": {
     "duration": 0.016453,
     "end_time": "2024-01-07T13:54:17.135159",
     "exception": false,
     "start_time": "2024-01-07T13:54:17.118706",
     "status": "completed"
    },
    "tags": []
   },
   "outputs": [],
   "source": [
    "# Define the dataset directory and classes\n",
    "dataset_dir = \"/kaggle/working/oral-diseases\"\n",
    "classes = ['caries', 'gingivitis', 'toothDiscoloration', 'ulcers', 'hypodontia', 'calculus']"
   ]
  },
  {
   "cell_type": "code",
   "execution_count": 14,
   "id": "c2942b41",
   "metadata": {
    "execution": {
     "iopub.execute_input": "2024-01-07T13:54:17.154757Z",
     "iopub.status.busy": "2024-01-07T13:54:17.154409Z",
     "iopub.status.idle": "2024-01-07T13:54:17.164885Z",
     "shell.execute_reply": "2024-01-07T13:54:17.163069Z"
    },
    "papermill": {
     "duration": 0.023249,
     "end_time": "2024-01-07T13:54:17.167298",
     "exception": false,
     "start_time": "2024-01-07T13:54:17.144049",
     "status": "completed"
    },
    "tags": []
   },
   "outputs": [],
   "source": [
    "# Function to load images and extract features\n",
    "def load_images_and_features(dataset_dir, classes):\n",
    "    images = []\n",
    "    labels = []\n",
    "    for label, class_name in enumerate(classes):\n",
    "        class_dir = os.path.join(dataset_dir, class_name)\n",
    "        for filename in os.listdir(class_dir):\n",
    "            img_path = os.path.join(class_dir, filename)\n",
    "            img = cv2.imread(img_path, cv2.IMREAD_COLOR)\n",
    "            img = cv2.resize(img, (256, 256))\n",
    "\n",
    "            # Extract HOG features for each color channel and concatenate\n",
    "            hog_features = []\n",
    "            for channel in range(img.shape[2]):\n",
    "                channel_features, _ = hog(img[:, :, channel], orientations=8, pixels_per_cell=(16, 16),\n",
    "                                          cells_per_block=(1, 1), visualize=True)\n",
    "                hog_features.append(channel_features)\n",
    "            features = np.concatenate(hog_features, axis=0)\n",
    "\n",
    "            images.append(features)\n",
    "            labels.append(label)\n",
    "\n",
    "    return np.array(images), np.array(labels)"
   ]
  },
  {
   "cell_type": "code",
   "execution_count": 15,
   "id": "598ab814",
   "metadata": {
    "execution": {
     "iopub.execute_input": "2024-01-07T13:54:17.188963Z",
     "iopub.status.busy": "2024-01-07T13:54:17.188454Z",
     "iopub.status.idle": "2024-01-07T14:27:37.882465Z",
     "shell.execute_reply": "2024-01-07T14:27:37.880409Z"
    },
    "papermill": {
     "duration": 2000.707904,
     "end_time": "2024-01-07T14:27:37.885452",
     "exception": false,
     "start_time": "2024-01-07T13:54:17.177548",
     "status": "completed"
    },
    "tags": []
   },
   "outputs": [],
   "source": [
    "# Load the dataset\n",
    "X, y = load_images_and_features(dataset_dir, classes)"
   ]
  },
  {
   "cell_type": "code",
   "execution_count": 16,
   "id": "aff6dfdc",
   "metadata": {
    "execution": {
     "iopub.execute_input": "2024-01-07T14:27:37.905162Z",
     "iopub.status.busy": "2024-01-07T14:27:37.904734Z",
     "iopub.status.idle": "2024-01-07T14:27:38.039813Z",
     "shell.execute_reply": "2024-01-07T14:27:38.037512Z"
    },
    "papermill": {
     "duration": 0.148188,
     "end_time": "2024-01-07T14:27:38.042858",
     "exception": false,
     "start_time": "2024-01-07T14:27:37.894670",
     "status": "completed"
    },
    "tags": []
   },
   "outputs": [],
   "source": [
    "# Split the dataset into training and testing sets\n",
    "X_train, X_test, y_train, y_test = train_test_split(X, y, test_size=0.1, random_state=42)"
   ]
  },
  {
   "cell_type": "code",
   "execution_count": 17,
   "id": "ac1e4c0d",
   "metadata": {
    "execution": {
     "iopub.execute_input": "2024-01-07T14:27:38.063151Z",
     "iopub.status.busy": "2024-01-07T14:27:38.062675Z",
     "iopub.status.idle": "2024-01-07T14:27:38.070212Z",
     "shell.execute_reply": "2024-01-07T14:27:38.068564Z"
    },
    "papermill": {
     "duration": 0.021195,
     "end_time": "2024-01-07T14:27:38.073133",
     "exception": false,
     "start_time": "2024-01-07T14:27:38.051938",
     "status": "completed"
    },
    "tags": []
   },
   "outputs": [],
   "source": [
    "# Define classifiers\n",
    "classifiers = {\n",
    "    \"Random Forest\": RandomForestClassifier(n_estimators=100),\n",
    "    \"SVM\": make_pipeline(StandardScaler(), SVC(kernel='linear', probability=True)),\n",
    "    \"K-Nearest Neighbors\": KNeighborsClassifier(),\n",
    "    \"Naive Bayes\": GaussianNB(),\n",
    "    \"Decision Tree\": DecisionTreeClassifier(),\n",
    "    \"Logistic Regression\": make_pipeline(StandardScaler(), LogisticRegression(max_iter=1000)),\n",
    "    \"Gradient Boosting\": GradientBoostingClassifier(n_estimators=100),\n",
    "    \"AdaBoost\": AdaBoostClassifier(n_estimators=100),\n",
    "    \"Extra Trees\": ExtraTreesClassifier(n_estimators=100),\n",
    "    \"XGBoost\": XGBClassifier(use_label_encoder=False, eval_metric='mlogloss')\n",
    "}"
   ]
  },
  {
   "cell_type": "code",
   "execution_count": 18,
   "id": "6e33d77c",
   "metadata": {
    "execution": {
     "iopub.execute_input": "2024-01-07T14:27:38.093165Z",
     "iopub.status.busy": "2024-01-07T14:27:38.092699Z",
     "iopub.status.idle": "2024-01-07T19:24:15.224455Z",
     "shell.execute_reply": "2024-01-07T19:24:15.221857Z"
    },
    "papermill": {
     "duration": 17797.145179,
     "end_time": "2024-01-07T19:24:15.227454",
     "exception": false,
     "start_time": "2024-01-07T14:27:38.082275",
     "status": "completed"
    },
    "tags": []
   },
   "outputs": [
    {
     "name": "stdout",
     "output_type": "stream",
     "text": [
      "Total Training time for Random Forest:  86.10814142227173\n",
      "Random Forest - Accuracy: 0.5583190394511149, Precision: 0.5787614495924275, Recall: 0.5523289878700578, F1-Score: 0.549712193673363, Training Time: 86.11 seconds\n",
      "Total Training time for SVM:  1333.0890436172485\n",
      "SVM - Accuracy: 0.5660377358490566, Precision: 0.5927034187424455, Recall: 0.5851830704471608, F1-Score: 0.5867901281356814, Training Time: 1333.09 seconds\n",
      "Total Training time for K-Nearest Neighbors:  0.04128146171569824\n",
      "K-Nearest Neighbors - Accuracy: 0.5222984562607204, Precision: 0.5367588255368692, Recall: 0.5416969792624938, F1-Score: 0.5300251329034954, Training Time: 0.04 seconds\n",
      "Total Training time for Naive Bayes:  0.6105990409851074\n",
      "Naive Bayes - Accuracy: 0.44168096054888506, Precision: 0.4275260302161652, Recall: 0.43082416236535703, F1-Score: 0.42235720389146086, Training Time: 0.61 seconds\n",
      "Total Training time for Decision Tree:  105.51359367370605\n",
      "Decision Tree - Accuracy: 0.4236706689536878, Precision: 0.42879998539835573, Recall: 0.42709481547335376, F1-Score: 0.4276128349013571, Training Time: 105.51 seconds\n"
     ]
    },
    {
     "name": "stderr",
     "output_type": "stream",
     "text": [
      "/opt/conda/lib/python3.10/site-packages/sklearn/linear_model/_logistic.py:458: ConvergenceWarning: lbfgs failed to converge (status=1):\n",
      "STOP: TOTAL NO. of ITERATIONS REACHED LIMIT.\n",
      "\n",
      "Increase the number of iterations (max_iter) or scale the data as shown in:\n",
      "    https://scikit-learn.org/stable/modules/preprocessing.html\n",
      "Please also refer to the documentation for alternative solver options:\n",
      "    https://scikit-learn.org/stable/modules/linear_model.html#logistic-regression\n",
      "  n_iter_i = _check_optimize_result(\n"
     ]
    },
    {
     "name": "stdout",
     "output_type": "stream",
     "text": [
      "Total Training time for Logistic Regression:  230.3649923801422\n",
      "Logistic Regression - Accuracy: 0.5471698113207547, Precision: 0.5713348511160629, Recall: 0.5664151620570738, F1-Score: 0.5679735317458835, Training Time: 230.36 seconds\n",
      "Total Training time for Gradient Boosting:  14248.246028661728\n",
      "Gradient Boosting - Accuracy: 0.5617495711835334, Precision: 0.5808587558988149, Recall: 0.5561262576567042, F1-Score: 0.5620343318621561, Training Time: 14248.25 seconds\n",
      "Total Training time for AdaBoost:  970.2718508243561\n",
      "AdaBoost - Accuracy: 0.45797598627787306, Precision: 0.4414817150381096, Recall: 0.43504694575793496, F1-Score: 0.4316031112154182, Training Time: 970.27 seconds\n",
      "Total Training time for Extra Trees:  36.47813129425049\n",
      "Extra Trees - Accuracy: 0.5634648370497427, Precision: 0.5958460776430647, Recall: 0.5560649375376095, F1-Score: 0.5560719558438141, Training Time: 36.48 seconds\n",
      "Total Training time for XGBoost:  747.5342781543732\n",
      "XGBoost - Accuracy: 0.6054888507718696, Precision: 0.6269518902997163, Recall: 0.6108841571009762, F1-Score: 0.614620536171193, Training Time: 747.53 seconds\n"
     ]
    }
   ],
   "source": [
    "import os\n",
    "\n",
    "# File path for the CSV\n",
    "results_file = 'model_evaluation_results.csv'\n",
    "\n",
    "# Check if the results file exists and load it, else create a new DataFrame\n",
    "if os.path.isfile(results_file):\n",
    "    results_df = pd.read_csv(results_file)\n",
    "else:\n",
    "    results_df = pd.DataFrame(columns=[\"Model\", \"Accuracy\", \"Precision\", \"Recall\", \"F1-Score\", \"Training Time (s)\"])\n",
    "\n",
    "# Train, evaluate each classifier, and update results\n",
    "for name, clf in classifiers.items():\n",
    "    start_time = time.time()\n",
    "    clf.fit(X_train, y_train)\n",
    "    training_time = time.time() - start_time\n",
    "    \n",
    "    print(f\"Total Training time for {name}: \", training_time)\n",
    "\n",
    "    y_pred = clf.predict(X_test)\n",
    "    \n",
    "    # Save the trained model\n",
    "    model_filename = f\"{name.replace(' ', '_')}_model.joblib\"\n",
    "    joblib.dump(clf, model_filename)\n",
    "    \n",
    "    # Calculate metrics\n",
    "    accuracy = accuracy_score(y_test, y_pred)\n",
    "    report = classification_report(y_test, y_pred, output_dict=True)\n",
    "    precision = report['macro avg']['precision']\n",
    "    recall = report['macro avg']['recall']\n",
    "    f1_score = report['macro avg']['f1-score']\n",
    "\n",
    "    # Create a temporary DataFrame\n",
    "    temp_df = pd.DataFrame({\n",
    "        \"Model\": [name],\n",
    "        \"Accuracy\": [accuracy],\n",
    "        \"Precision\": [precision],\n",
    "        \"Recall\": [recall],\n",
    "        \"F1-Score\": [f1_score],\n",
    "        \"Training Time (s)\": [training_time]\n",
    "    })\n",
    "\n",
    "    # Append to existing DataFrame and save\n",
    "    results_df = pd.concat([results_df, temp_df], ignore_index=True)\n",
    "    results_df.to_csv(results_file, index=False)\n",
    "\n",
    "    # Print report\n",
    "    print(f\"{name} - Accuracy: {accuracy}, Precision: {precision}, Recall: {recall}, F1-Score: {f1_score}, Training Time: {training_time:.2f} seconds\")\n",
    "\n",
    "    # Confusion Matrix\n",
    "    cm = confusion_matrix(y_test, y_pred)\n",
    "    plt.figure(figsize=(10, 7))\n",
    "    sns.heatmap(cm, annot=True, fmt='d', cmap='Blues', xticklabels=['caries', 'gingivitis', 'toothDiscoloration', 'ulcers', 'hypodontia', 'calculus'],yticklabels=['caries', 'gingivitis', 'toothDiscoloration', 'ulcers', 'hypodontia', 'calculus'])\n",
    "    plt.title(f'Confusion Matrix for {name}')\n",
    "    plt.ylabel('Actual')\n",
    "    plt.xlabel('Predicted')\n",
    "    plt.savefig(f\"confusion_matrix_{name}.png\")\n",
    "    plt.close()\n"
   ]
  },
  {
   "cell_type": "code",
   "execution_count": null,
   "id": "c2b37c7b",
   "metadata": {
    "papermill": {
     "duration": 0.009563,
     "end_time": "2024-01-07T19:24:15.247292",
     "exception": false,
     "start_time": "2024-01-07T19:24:15.237729",
     "status": "completed"
    },
    "tags": []
   },
   "outputs": [],
   "source": []
  },
  {
   "cell_type": "code",
   "execution_count": null,
   "id": "b7414e88",
   "metadata": {
    "papermill": {
     "duration": 0.009675,
     "end_time": "2024-01-07T19:24:15.267413",
     "exception": false,
     "start_time": "2024-01-07T19:24:15.257738",
     "status": "completed"
    },
    "tags": []
   },
   "outputs": [],
   "source": []
  },
  {
   "cell_type": "code",
   "execution_count": null,
   "id": "e428e496",
   "metadata": {
    "papermill": {
     "duration": 0.009805,
     "end_time": "2024-01-07T19:24:15.287562",
     "exception": false,
     "start_time": "2024-01-07T19:24:15.277757",
     "status": "completed"
    },
    "tags": []
   },
   "outputs": [],
   "source": []
  },
  {
   "cell_type": "code",
   "execution_count": null,
   "id": "1448385c",
   "metadata": {
    "papermill": {
     "duration": 0.009742,
     "end_time": "2024-01-07T19:24:15.307382",
     "exception": false,
     "start_time": "2024-01-07T19:24:15.297640",
     "status": "completed"
    },
    "tags": []
   },
   "outputs": [],
   "source": []
  },
  {
   "cell_type": "code",
   "execution_count": null,
   "id": "86d5c21d",
   "metadata": {
    "papermill": {
     "duration": 0.009411,
     "end_time": "2024-01-07T19:24:15.327343",
     "exception": false,
     "start_time": "2024-01-07T19:24:15.317932",
     "status": "completed"
    },
    "tags": []
   },
   "outputs": [],
   "source": []
  },
  {
   "cell_type": "code",
   "execution_count": null,
   "id": "4b891da2",
   "metadata": {
    "papermill": {
     "duration": 0.009424,
     "end_time": "2024-01-07T19:24:15.346495",
     "exception": false,
     "start_time": "2024-01-07T19:24:15.337071",
     "status": "completed"
    },
    "tags": []
   },
   "outputs": [],
   "source": []
  },
  {
   "cell_type": "code",
   "execution_count": null,
   "id": "f077779f",
   "metadata": {
    "papermill": {
     "duration": 0.009667,
     "end_time": "2024-01-07T19:24:15.366070",
     "exception": false,
     "start_time": "2024-01-07T19:24:15.356403",
     "status": "completed"
    },
    "tags": []
   },
   "outputs": [],
   "source": []
  },
  {
   "cell_type": "code",
   "execution_count": null,
   "id": "29d3e911",
   "metadata": {
    "papermill": {
     "duration": 0.009609,
     "end_time": "2024-01-07T19:24:15.385252",
     "exception": false,
     "start_time": "2024-01-07T19:24:15.375643",
     "status": "completed"
    },
    "tags": []
   },
   "outputs": [],
   "source": []
  },
  {
   "cell_type": "code",
   "execution_count": null,
   "id": "ea980173",
   "metadata": {
    "papermill": {
     "duration": 0.009615,
     "end_time": "2024-01-07T19:24:15.404900",
     "exception": false,
     "start_time": "2024-01-07T19:24:15.395285",
     "status": "completed"
    },
    "tags": []
   },
   "outputs": [],
   "source": []
  },
  {
   "cell_type": "code",
   "execution_count": null,
   "id": "65906860",
   "metadata": {
    "papermill": {
     "duration": 0.009767,
     "end_time": "2024-01-07T19:24:15.424216",
     "exception": false,
     "start_time": "2024-01-07T19:24:15.414449",
     "status": "completed"
    },
    "tags": []
   },
   "outputs": [],
   "source": []
  },
  {
   "cell_type": "code",
   "execution_count": null,
   "id": "0a7b2887",
   "metadata": {
    "papermill": {
     "duration": 0.01043,
     "end_time": "2024-01-07T19:24:15.444730",
     "exception": false,
     "start_time": "2024-01-07T19:24:15.434300",
     "status": "completed"
    },
    "tags": []
   },
   "outputs": [],
   "source": []
  },
  {
   "cell_type": "code",
   "execution_count": null,
   "id": "eef6daae",
   "metadata": {
    "papermill": {
     "duration": 0.009877,
     "end_time": "2024-01-07T19:24:15.465393",
     "exception": false,
     "start_time": "2024-01-07T19:24:15.455516",
     "status": "completed"
    },
    "tags": []
   },
   "outputs": [],
   "source": []
  },
  {
   "cell_type": "code",
   "execution_count": null,
   "id": "4f174a3f",
   "metadata": {
    "papermill": {
     "duration": 0.009721,
     "end_time": "2024-01-07T19:24:15.485438",
     "exception": false,
     "start_time": "2024-01-07T19:24:15.475717",
     "status": "completed"
    },
    "tags": []
   },
   "outputs": [],
   "source": []
  },
  {
   "cell_type": "code",
   "execution_count": null,
   "id": "282c5d60",
   "metadata": {
    "papermill": {
     "duration": 0.009847,
     "end_time": "2024-01-07T19:24:15.505309",
     "exception": false,
     "start_time": "2024-01-07T19:24:15.495462",
     "status": "completed"
    },
    "tags": []
   },
   "outputs": [],
   "source": []
  },
  {
   "cell_type": "code",
   "execution_count": null,
   "id": "d5e14417",
   "metadata": {
    "papermill": {
     "duration": 0.01013,
     "end_time": "2024-01-07T19:24:15.525893",
     "exception": false,
     "start_time": "2024-01-07T19:24:15.515763",
     "status": "completed"
    },
    "tags": []
   },
   "outputs": [],
   "source": []
  },
  {
   "cell_type": "code",
   "execution_count": null,
   "id": "f54c1235",
   "metadata": {
    "papermill": {
     "duration": 0.010129,
     "end_time": "2024-01-07T19:24:15.547108",
     "exception": false,
     "start_time": "2024-01-07T19:24:15.536979",
     "status": "completed"
    },
    "tags": []
   },
   "outputs": [],
   "source": []
  },
  {
   "cell_type": "code",
   "execution_count": null,
   "id": "0baa599d",
   "metadata": {
    "papermill": {
     "duration": 0.009821,
     "end_time": "2024-01-07T19:24:15.566527",
     "exception": false,
     "start_time": "2024-01-07T19:24:15.556706",
     "status": "completed"
    },
    "tags": []
   },
   "outputs": [],
   "source": []
  },
  {
   "cell_type": "code",
   "execution_count": null,
   "id": "9f1b3740",
   "metadata": {
    "papermill": {
     "duration": 0.009623,
     "end_time": "2024-01-07T19:24:15.586083",
     "exception": false,
     "start_time": "2024-01-07T19:24:15.576460",
     "status": "completed"
    },
    "tags": []
   },
   "outputs": [],
   "source": []
  },
  {
   "cell_type": "code",
   "execution_count": null,
   "id": "98967dd1",
   "metadata": {
    "papermill": {
     "duration": 0.010144,
     "end_time": "2024-01-07T19:24:15.606661",
     "exception": false,
     "start_time": "2024-01-07T19:24:15.596517",
     "status": "completed"
    },
    "tags": []
   },
   "outputs": [],
   "source": []
  }
 ],
 "metadata": {
  "kaggle": {
   "accelerator": "none",
   "dataSources": [
    {
     "datasetId": 2729190,
     "sourceId": 5797207,
     "sourceType": "datasetVersion"
    }
   ],
   "dockerImageVersionId": 30626,
   "isGpuEnabled": false,
   "isInternetEnabled": true,
   "language": "python",
   "sourceType": "notebook"
  },
  "kernelspec": {
   "display_name": "Python 3",
   "language": "python",
   "name": "python3"
  },
  "language_info": {
   "codemirror_mode": {
    "name": "ipython",
    "version": 3
   },
   "file_extension": ".py",
   "mimetype": "text/x-python",
   "name": "python",
   "nbconvert_exporter": "python",
   "pygments_lexer": "ipython3",
   "version": "3.10.12"
  },
  "papermill": {
   "default_parameters": {},
   "duration": 19922.063706,
   "end_time": "2024-01-07T19:24:16.876402",
   "environment_variables": {},
   "exception": null,
   "input_path": "__notebook__.ipynb",
   "output_path": "__notebook__.ipynb",
   "parameters": {},
   "start_time": "2024-01-07T13:52:14.812696",
   "version": "2.4.0"
  }
 },
 "nbformat": 4,
 "nbformat_minor": 5
}
